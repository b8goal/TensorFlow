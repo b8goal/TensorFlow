{
 "cells": [
  {
   "cell_type": "markdown",
   "metadata": {},
   "source": [
    "# Exercise 1"
   ]
  },
  {
   "cell_type": "markdown",
   "metadata": {},
   "source": [
    "## gradient descent 구현하기\n",
    "\n",
    "\n",
    "단순한 gradient descent함수를 numpy와 파이썬을 사용하여 구현해 보자.\n",
    "\n",
    "아래 함수는 W, X, Y를 인자로 받아 주어진 step 만큼 학습하는 함수이다.\n",
    "각 step수 마다 W를 개선하며 W와 cost를 출력해 보는 함수이다.\n",
    "\n",
    "##### hint: 아래 식은 W 개선 시 사용되는 식이다. (bias는 고려하지 않는다)\n",
    "<img src=\"./images/1.PNG\" width=50%/>"
   ]
  },
  {
   "cell_type": "code",
   "execution_count": 192,
   "metadata": {},
   "outputs": [],
   "source": [
    "import numpy as np\n",
    "\n",
    "def grad(W, X, Y, learning_rate = 0.1, step = 100):\n",
    "    for step in range(step):\n",
    "        # insert your code\n",
    "        diff = np.dot(X,W)-Y\n",
    "        cost = np.mean(np.square(diff))\n",
    "        gradient =  np.mean(diff * X)\n",
    "        W = W - learning_rate * gradient\n",
    "        if step % 10 == 0:\n",
    "            print(step, W, cost)\n",
    "    return W"
   ]
  },
  {
   "cell_type": "markdown",
   "metadata": {},
   "source": [
    "위 함수를 만들었다면 만든 함수를 가지고 간단한 예제를 통해 W를 학습 시켜보자.\n",
    "\n",
    "정상적으로 만들었다면 W는 2에 가까워야 한다."
   ]
  },
  {
   "cell_type": "code",
   "execution_count": 193,
   "metadata": {},
   "outputs": [
    {
     "name": "stdout",
     "output_type": "stream",
     "text": [
      "0 [[1.21427197]] 10.128702463676225\n",
      "10 [[1.99853695]] 3.5117886623616284e-05\n",
      "20 [[1.99999728]] 1.2175952105659958e-10\n",
      "30 [[1.99999999]] 4.221604062068215e-16\n",
      "40 [[2.]] 1.4636737994708058e-21\n",
      "50 [[2.]] 5.039769369821971e-27\n",
      "60 [[2.]] 0.0\n",
      "70 [[2.]] 0.0\n",
      "80 [[2.]] 0.0\n",
      "90 [[2.]] 0.0\n",
      "W: [[2.]]\n"
     ]
    }
   ],
   "source": [
    "import numpy as np\n",
    "\n",
    "X = np.array([[1], [2], [3]])\n",
    "Y = np.array([[2], [4], [6]])\n",
    "W = np.random.random((1,1))\n",
    "\n",
    "W = grad(W, X, Y)\n",
    "print(\"W:\",W)"
   ]
  },
  {
   "cell_type": "markdown",
   "metadata": {},
   "source": [
    "# Exercise 2\n",
    "\n",
    "### 논리회로 만들어보기\n",
    "\n",
    "우리는 기존에 과제로 AND게이트를 만들어 본 적이 있다. 당시 W의 값을 직접 구했었는데 이번엔 위에서 우리가 만든 gradient descent로 인공지능에게 구하라고 시켜보자\n",
    "\n",
    "\n",
    "* 다음은 AND게이트의 진리표이다.\n",
    "\n",
    "|x1|x2| y|\n",
    "|-|-|-|\n",
    "|0|0|0|\n",
    "|1|0|0|\n",
    "|0|1|0|\n",
    "|1|1|1|"
   ]
  },
  {
   "cell_type": "code",
   "execution_count": 210,
   "metadata": {},
   "outputs": [
    {
     "name": "stdout",
     "output_type": "stream",
     "text": [
      "0 [[0.63285997]\n",
      " [0.85785043]] 0.38727146851800376\n",
      "10 [[0.40978406]\n",
      " [0.63477451]] 0.1522477541368093\n",
      "20 [[0.30748538]\n",
      " [0.53247584]] 0.10282279254682303\n",
      "30 [[0.26057302]\n",
      " [0.48556347]] 0.09242883364525661\n",
      "40 [[0.23905983]\n",
      " [0.46405029]] 0.09024300733053593\n",
      "50 [[0.22919427]\n",
      " [0.45418473]] 0.08978333294434941\n",
      "60 [[0.22467009]\n",
      " [0.44966055]] 0.08968666444882763\n",
      "70 [[0.22259539]\n",
      " [0.44758584]] 0.08966633528038306\n",
      "80 [[0.22164396]\n",
      " [0.44663442]] 0.0896620601017179\n",
      "90 [[0.22120766]\n",
      " [0.44619812]] 0.08966116104120447\n",
      "W: [[2.]]\n"
     ]
    }
   ],
   "source": [
    "# insert your code\n",
    "# 행렬의 size에 유의하자\n",
    "# 다른 게이트와 구분하기 위해 W의 이름을 W_and 라 하자.\n",
    "\n",
    "X = np.array([[0,0], [1,0], [0,1], [1,1]])\n",
    "Y = np.array([[0], [0], [0], [1]])\n",
    "W_and = np.random.random((2,1))\n",
    "W_and = grad(W_and, X, Y)\n",
    "print(\"W:\",W)\n"
   ]
  },
  {
   "cell_type": "markdown",
   "metadata": {},
   "source": [
    "학습이 끝났다면 학습한 W값을 가지고 AND게이트가 학습이 제대로 이뤄졌는지 확인해보자.\n",
    "만일 학습이 제대로 이루어지지 않았다면 learning_rate나 step을 변경시켜 튜닝을 해주자."
   ]
  },
  {
   "cell_type": "code",
   "execution_count": 208,
   "metadata": {},
   "outputs": [],
   "source": [
    "def AND(x1, x2):\n",
    "    x = np.array([x1, x2])\n",
    "    y = np.matmul(x, W_and)\n",
    "    if y >= 0.5:\n",
    "        return 1\n",
    "    else:\n",
    "        return 0"
   ]
  },
  {
   "cell_type": "code",
   "execution_count": 211,
   "metadata": {},
   "outputs": [
    {
     "name": "stdout",
     "output_type": "stream",
     "text": [
      "0\n",
      "0\n",
      "0\n",
      "1\n"
     ]
    }
   ],
   "source": [
    "print(AND(0,0))\n",
    "print(AND(1,0))\n",
    "print(AND(0,1))\n",
    "print(AND(1,1))"
   ]
  },
  {
   "cell_type": "markdown",
   "metadata": {},
   "source": [
    "마찬가지로 OR게이트와 NAND게이트도 만들어 보자.\n",
    "\n",
    "* 다음은 OR게이트의 진리표이다.\n",
    "\n",
    "|x1|x2| y|\n",
    "|-|-|-|\n",
    "|0|0|0|\n",
    "|1|0|1|\n",
    "|0|1|1|\n",
    "|1|1|1|\n",
    "\n",
    "* 다음은 NAND게이트의 진리표이다.\n",
    "\n",
    "|x1|x2| y|\n",
    "|-|-|-|\n",
    "|0|0|1|\n",
    "|1|0|1|\n",
    "|0|1|1|\n",
    "|1|1|0|\n",
    "\n",
    "여기서도 W_or로 가중치의 이름을 정해 주자"
   ]
  },
  {
   "cell_type": "code",
   "execution_count": 197,
   "metadata": {},
   "outputs": [
    {
     "name": "stdout",
     "output_type": "stream",
     "text": [
      "0 [[0.6801734 ]\n",
      " [0.80568371]] 0.09549827586902274\n",
      "10 [[0.63888386]\n",
      " [0.76439418]] 0.08744660013694298\n",
      "20 [[0.61994921]\n",
      " [0.74545953]] 0.08575335073510769\n",
      "30 [[0.61126612]\n",
      " [0.73677643]] 0.08539726417223328\n",
      "40 [[0.6072842 ]\n",
      " [0.73279452]] 0.08532237996431785\n",
      "50 [[0.60545817]\n",
      " [0.73096848]] 0.0853066319828443\n",
      "60 [[0.60462078]\n",
      " [0.7301311 ]] 0.085303320217555\n",
      "70 [[0.60423677]\n",
      " [0.72974708]] 0.08530262376072023\n",
      "80 [[0.60406067]\n",
      " [0.72957098]] 0.08530247729740523\n",
      "90 [[0.60397991]\n",
      " [0.72949023]] 0.08530244649649761\n"
     ]
    }
   ],
   "source": [
    "# insert your code\n",
    "# 다른 게이트와 구분하기 위해 W의 이름을 W_or 라 하자.\n",
    "X = np.array([[0,0], [1,0], [0,1], [1,1]])\n",
    "Y = np.array([[0], [1], [1], [1]])\n",
    "W_or = np.random.random((2,1))\n",
    "W_or = grad(W_or, X, Y)"
   ]
  },
  {
   "cell_type": "code",
   "execution_count": 198,
   "metadata": {},
   "outputs": [],
   "source": [
    "def OR(x1, x2):\n",
    "    x = np.array([x1, x2])\n",
    "    y = np.matmul(x, W_or)\n",
    "    if y >= 0.5:\n",
    "        return 1\n",
    "    else:\n",
    "        return 0"
   ]
  },
  {
   "cell_type": "code",
   "execution_count": 199,
   "metadata": {},
   "outputs": [
    {
     "name": "stdout",
     "output_type": "stream",
     "text": [
      "0\n",
      "1\n",
      "1\n",
      "1\n"
     ]
    }
   ],
   "source": [
    "print(OR(0,0))\n",
    "print(OR(1,0))\n",
    "print(OR(0,1))\n",
    "print(OR(1,1))"
   ]
  },
  {
   "cell_type": "markdown",
   "metadata": {},
   "source": [
    "NAND게이트의 경우 AND게이트를 반전시켜주면 되므로 별도로 학습을 하지 않아도 된다."
   ]
  },
  {
   "cell_type": "code",
   "execution_count": 202,
   "metadata": {},
   "outputs": [],
   "source": [
    "# make nand function\n",
    "# def NAND(x1, x2):\n",
    "def NAND(x1, x2):\n",
    "    x = np.array([x1, x2])\n",
    "    y = np.matmul(x, W_and)\n",
    "    if y >= 0.5:\n",
    "        return 0\n",
    "    else:\n",
    "        return 1"
   ]
  },
  {
   "cell_type": "code",
   "execution_count": 212,
   "metadata": {},
   "outputs": [
    {
     "name": "stdout",
     "output_type": "stream",
     "text": [
      "1\n",
      "1\n",
      "1\n",
      "0\n"
     ]
    }
   ],
   "source": [
    "print(NAND(0,0))\n",
    "print(NAND(1,0))\n",
    "print(NAND(0,1))\n",
    "print(NAND(1,1))"
   ]
  },
  {
   "cell_type": "markdown",
   "metadata": {},
   "source": [
    "마지막으로 XOR게이트를 만들어보자\n",
    "기존과 같은 방식으로 학습시켜보자.\n",
    "\n",
    "* 다음은 XOR게이트의 진리표이다.\n",
    "\n",
    "|x1|x2| y|\n",
    "|-|-|-|\n",
    "|0|0|0|\n",
    "|1|0|1|\n",
    "|0|1|1|\n",
    "|1|1|0|\n"
   ]
  },
  {
   "cell_type": "code",
   "execution_count": 213,
   "metadata": {},
   "outputs": [
    {
     "name": "stdout",
     "output_type": "stream",
     "text": [
      "0 [[0.89812142]\n",
      " [0.46271216]] 0.5682220915562288\n",
      "10 [[0.71020431]\n",
      " [0.27479505]] 0.40144400362379085\n",
      "20 [[0.62402884]\n",
      " [0.18861958]] 0.36637094466965303\n",
      "30 [[0.58451029]\n",
      " [0.14910103]] 0.35899515879963656\n",
      "40 [[0.56638778]\n",
      " [0.13097852]] 0.3574440475244133\n",
      "50 [[0.55807712]\n",
      " [0.12266786]] 0.3571178522917256\n",
      "60 [[0.554266  ]\n",
      " [0.11885673]] 0.3570492541637074\n",
      "70 [[0.55251828]\n",
      " [0.11710902]] 0.3570348281307798\n",
      "80 [[0.55171681]\n",
      " [0.11630755]] 0.3570317943683136\n",
      "90 [[0.55134927]\n",
      " [0.11594001]] 0.35703115637485094\n"
     ]
    }
   ],
   "source": [
    "# insert your code\n",
    "# 다른 게이트와 구분하기 위해 W의 이름을 W_xor 라 하자.\n",
    "X = np.array([[0,0], [1,0], [0,1], [1,1]])\n",
    "Y = np.array([[0], [1], [1], [0]])\n",
    "W_xor = np.random.random((2,1))\n",
    "W_xor = grad(W_xor, X, Y)\n"
   ]
  },
  {
   "cell_type": "code",
   "execution_count": 171,
   "metadata": {},
   "outputs": [],
   "source": [
    "def XOR(x1, x2):\n",
    "    x = np.array([x1, x2])\n",
    "    y = np.matmul(x, W_xor)\n",
    "    if y >= 0.5:\n",
    "        return 1\n",
    "    else:\n",
    "        return 0"
   ]
  },
  {
   "cell_type": "code",
   "execution_count": 214,
   "metadata": {},
   "outputs": [
    {
     "name": "stdout",
     "output_type": "stream",
     "text": [
      "0\n",
      "1\n",
      "1\n",
      "0\n"
     ]
    }
   ],
   "source": [
    "print(XOR(0,0))\n",
    "print(XOR(1,0))\n",
    "print(XOR(0,1))\n",
    "print(XOR(1,1))"
   ]
  },
  {
   "cell_type": "markdown",
   "metadata": {},
   "source": [
    "아마 아무리 학습을 하여도 제대로 된 결과가 나오지 않을 것 이다. \n",
    "이는 단순 직선으로는 XOR게이트를 만들 수 없기 떄문이다.\n",
    "\n",
    "<img src=\"./images/2.PNG\" width=50%/>"
   ]
  },
  {
   "cell_type": "markdown",
   "metadata": {},
   "source": [
    "이러한 비선형 구조는 선형 구조의 분류자를 층을 쌓아서 조합해 비선형 구조로 만들어야한다.\n",
    "\n",
    "따라서 우리는 우리가 만든 AND, OR, NAND게이트를 조합하여 XOR를 만들어야 한다. \n",
    "\n",
    "##### hint: 조합 방법은 다음과 같다.\n",
    "\n",
    "<img src=\"./images/3.PNG\" width=60%/>\n",
    "\n",
    "\n",
    "위 방법은 마치 신경망 구조와 같다. 따라서 이를 다시 신경망 처럼 표현하면 다음과 같다.\n",
    "\n",
    "<img src=\"./images/4.PNG\" width=80%/>\n",
    "\n",
    "위 구조를 이용해서 XOR게이트 함수를 직접 구현해 보자"
   ]
  },
  {
   "cell_type": "code",
   "execution_count": 186,
   "metadata": {},
   "outputs": [],
   "source": [
    "# make XOR gate\n",
    "# def XOR(x1,x2):\n",
    "def XOR(x1, x2):\n",
    "    x = np.array([NAND(x1, x2),OR(x1,x2)])\n",
    "    y = np.matmul(x,W_and)\n",
    "    if y >= 0.5:\n",
    "        return 1\n",
    "    else:\n",
    "        return 0"
   ]
  },
  {
   "cell_type": "code",
   "execution_count": 215,
   "metadata": {},
   "outputs": [
    {
     "name": "stdout",
     "output_type": "stream",
     "text": [
      "0\n",
      "1\n",
      "1\n",
      "0\n"
     ]
    }
   ],
   "source": [
    "print(XOR(0,0))\n",
    "print(XOR(1,0))\n",
    "print(XOR(0,1))\n",
    "print(XOR(1,1))"
   ]
  },
  {
   "cell_type": "markdown",
   "metadata": {},
   "source": [
    "# Example1\n",
    "\n",
    "### tensorflow 기초 실습\n",
    "\n",
    "앞에서 XOR게이트를 만들 때 본 신경망 구조는 tensorflow의 작동방식과 일치한다.\n",
    "\n",
    "tensorflow를 익히기 위해 간단한 예제를 실습해 보자.\n",
    "\n",
    "\n",
    "\n",
    "<img src=\"./images/5.PNG\" width=70%/>"
   ]
  },
  {
   "cell_type": "markdown",
   "metadata": {},
   "source": [
    "## Step 1: Define a computation graph"
   ]
  },
  {
   "cell_type": "code",
   "execution_count": 216,
   "metadata": {},
   "outputs": [],
   "source": [
    "import tensorflow as tf\n",
    "\n",
    "a = tf.placeholder(tf.int32, name=\"input_a\")\n",
    "b = tf.placeholder(tf.int32, name=\"input_b\")\n",
    "\n",
    "c = tf.add(a, b, name=\"add\")\n",
    "d = tf.multiply(a, b, name=\"multiply\")\n",
    "e = tf.subtract(c, d, name=\"subtract\")\n",
    "out = tf.add(b, e, name=\"output\")"
   ]
  },
  {
   "cell_type": "markdown",
   "metadata": {},
   "source": [
    "위와 같이 tensorflow를 이용하여 operation(Node)와 tensor(edge)를 정의하여 그래프를 정의해준다. \n",
    "\n",
    "이는 단순히 그래프를 정의한 것으로 Session 객체로 run 하기 전까지는 실행이 안된다."
   ]
  },
  {
   "cell_type": "markdown",
   "metadata": {},
   "source": [
    "## Step 2: Run the graph"
   ]
  },
  {
   "cell_type": "code",
   "execution_count": 218,
   "metadata": {},
   "outputs": [
    {
     "name": "stdout",
     "output_type": "stream",
     "text": [
      "out: -8\n"
     ]
    }
   ],
   "source": [
    "sess = tf.Session()\n",
    "input_data = { a: 7, b: 3 }\n",
    "result = sess.run(out, feed_dict=input_data)\n",
    "print(\"out:\",result)"
   ]
  },
  {
   "cell_type": "markdown",
   "metadata": {},
   "source": [
    "# Exercise 3\n",
    "\n",
    "### tensorflow를 이용하여 계산해보기\n",
    "\n",
    "다음 그래프를 정의하고 계산해 보자.\n",
    "<img src=\"./images/6.PNG\" width=70%/>\n",
    "\n",
    "\n",
    "tensorflow의 수학 관련 Operations 에 관한 설명은 [이곳을 참고하자](https://www.tensorflow.org/api_guides/python/math_ops)\n",
    "\n",
    "그래프 실행 후 결과는 다음과 같다\n",
    "\n",
    "|In | Out|\n",
    "|---|----|\n",
    "|1, 2, 3| 15|\n",
    "|-1, -2, 3| -3|\n",
    "|123, 456, 789|44613795|"
   ]
  },
  {
   "cell_type": "code",
   "execution_count": 225,
   "metadata": {},
   "outputs": [
    {
     "name": "stdout",
     "output_type": "stream",
     "text": [
      "out: 15\n",
      "out: -3\n",
      "out: 44613795\n"
     ]
    }
   ],
   "source": [
    "# input your code\n",
    "import tensorflow as tf\n",
    "\n",
    "a = tf.placeholder(tf.int32, name=\"input_a\")\n",
    "b = tf.placeholder(tf.int32, name=\"input_b\")\n",
    "c = tf.placeholder(tf.int32, name=\"input_c\")\n",
    "\n",
    "d = tf.add(a, b, name=\"add\")\n",
    "e = tf.multiply(tf.multiply(a, b), c, name=\"product\")\n",
    "f = tf.multiply(b, c, name=\"multiply\")\n",
    "out = tf.add(tf.add(d,e),f, name=\"output\")\n",
    "\n",
    "sess = tf.Session()\n",
    "input_data = { a: 1, b: 2,c: 3}\n",
    "result = sess.run(out, feed_dict=input_data)\n",
    "print(\"out:\",result)\n",
    "\n",
    "input_data = { a: -1, b: -2,c: -3}\n",
    "result = sess.run(out, feed_dict=input_data)\n",
    "print(\"out:\",result)\n",
    "\n",
    "input_data = { a: 123, b: 456, c:789}\n",
    "result = sess.run(out, feed_dict=input_data)\n",
    "print(\"out:\",result)\n"
   ]
  },
  {
   "cell_type": "code",
   "execution_count": null,
   "metadata": {},
   "outputs": [],
   "source": []
  }
 ],
 "metadata": {
  "kernelspec": {
   "display_name": "Python 3",
   "language": "python",
   "name": "python3"
  },
  "language_info": {
   "codemirror_mode": {
    "name": "ipython",
    "version": 3
   },
   "file_extension": ".py",
   "mimetype": "text/x-python",
   "name": "python",
   "nbconvert_exporter": "python",
   "pygments_lexer": "ipython3",
   "version": "3.6.7"
  }
 },
 "nbformat": 4,
 "nbformat_minor": 2
}
