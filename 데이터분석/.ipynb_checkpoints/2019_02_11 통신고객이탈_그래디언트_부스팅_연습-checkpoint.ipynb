{
 "cells": [
  {
   "cell_type": "code",
   "execution_count": 20,
   "metadata": {},
   "outputs": [
    {
     "data": {
      "text/html": [
       "<div>\n",
       "<style scoped>\n",
       "    .dataframe tbody tr th:only-of-type {\n",
       "        vertical-align: middle;\n",
       "    }\n",
       "\n",
       "    .dataframe tbody tr th {\n",
       "        vertical-align: top;\n",
       "    }\n",
       "\n",
       "    .dataframe thead th {\n",
       "        text-align: right;\n",
       "    }\n",
       "</style>\n",
       "<table border=\"1\" class=\"dataframe\">\n",
       "  <thead>\n",
       "    <tr style=\"text-align: right;\">\n",
       "      <th></th>\n",
       "      <th>BAD</th>\n",
       "      <th>LOAN</th>\n",
       "      <th>MORTDUE</th>\n",
       "      <th>VALUE</th>\n",
       "      <th>REASON</th>\n",
       "      <th>JOB</th>\n",
       "      <th>YOJ</th>\n",
       "      <th>DEROG</th>\n",
       "      <th>DELINQ</th>\n",
       "      <th>CLAGE</th>\n",
       "      <th>NINQ</th>\n",
       "      <th>CLNO</th>\n",
       "      <th>DEBTINC</th>\n",
       "    </tr>\n",
       "  </thead>\n",
       "  <tbody>\n",
       "    <tr>\n",
       "      <th>0</th>\n",
       "      <td>1</td>\n",
       "      <td>1700</td>\n",
       "      <td>30548</td>\n",
       "      <td>40320.0</td>\n",
       "      <td>HomeImp</td>\n",
       "      <td>Other</td>\n",
       "      <td>9.0</td>\n",
       "      <td>0</td>\n",
       "      <td>0.0</td>\n",
       "      <td>101.466002</td>\n",
       "      <td>1.0</td>\n",
       "      <td>8</td>\n",
       "      <td>37.113614</td>\n",
       "    </tr>\n",
       "    <tr>\n",
       "      <th>1</th>\n",
       "      <td>1</td>\n",
       "      <td>1800</td>\n",
       "      <td>28502</td>\n",
       "      <td>43034.0</td>\n",
       "      <td>HomeImp</td>\n",
       "      <td>Other</td>\n",
       "      <td>11.0</td>\n",
       "      <td>0</td>\n",
       "      <td>0.0</td>\n",
       "      <td>88.766030</td>\n",
       "      <td>0.0</td>\n",
       "      <td>8</td>\n",
       "      <td>36.884894</td>\n",
       "    </tr>\n",
       "    <tr>\n",
       "      <th>2</th>\n",
       "      <td>0</td>\n",
       "      <td>2300</td>\n",
       "      <td>102370</td>\n",
       "      <td>120953.0</td>\n",
       "      <td>HomeImp</td>\n",
       "      <td>Office</td>\n",
       "      <td>2.0</td>\n",
       "      <td>0</td>\n",
       "      <td>0.0</td>\n",
       "      <td>90.992533</td>\n",
       "      <td>0.0</td>\n",
       "      <td>13</td>\n",
       "      <td>31.588503</td>\n",
       "    </tr>\n",
       "    <tr>\n",
       "      <th>3</th>\n",
       "      <td>1</td>\n",
       "      <td>2400</td>\n",
       "      <td>34863</td>\n",
       "      <td>47471.0</td>\n",
       "      <td>HomeImp</td>\n",
       "      <td>Mgr</td>\n",
       "      <td>12.0</td>\n",
       "      <td>0</td>\n",
       "      <td>0.0</td>\n",
       "      <td>70.491080</td>\n",
       "      <td>1.0</td>\n",
       "      <td>21</td>\n",
       "      <td>38.263601</td>\n",
       "    </tr>\n",
       "    <tr>\n",
       "      <th>4</th>\n",
       "      <td>0</td>\n",
       "      <td>2400</td>\n",
       "      <td>98449</td>\n",
       "      <td>117195.0</td>\n",
       "      <td>HomeImp</td>\n",
       "      <td>Office</td>\n",
       "      <td>4.0</td>\n",
       "      <td>0</td>\n",
       "      <td>0.0</td>\n",
       "      <td>93.811775</td>\n",
       "      <td>0.0</td>\n",
       "      <td>13</td>\n",
       "      <td>29.681827</td>\n",
       "    </tr>\n",
       "  </tbody>\n",
       "</table>\n",
       "</div>"
      ],
      "text/plain": [
       "   BAD  LOAN  MORTDUE     VALUE   REASON     JOB   YOJ  DEROG  DELINQ  \\\n",
       "0    1  1700    30548   40320.0  HomeImp   Other   9.0      0     0.0   \n",
       "1    1  1800    28502   43034.0  HomeImp   Other  11.0      0     0.0   \n",
       "2    0  2300   102370  120953.0  HomeImp  Office   2.0      0     0.0   \n",
       "3    1  2400    34863   47471.0  HomeImp     Mgr  12.0      0     0.0   \n",
       "4    0  2400    98449  117195.0  HomeImp  Office   4.0      0     0.0   \n",
       "\n",
       "        CLAGE  NINQ  CLNO    DEBTINC  \n",
       "0  101.466002   1.0     8  37.113614  \n",
       "1   88.766030   0.0     8  36.884894  \n",
       "2   90.992533   0.0    13  31.588503  \n",
       "3   70.491080   1.0    21  38.263601  \n",
       "4   93.811775   0.0    13  29.681827  "
      ]
     },
     "execution_count": 20,
     "metadata": {},
     "output_type": "execute_result"
    }
   ],
   "source": [
    "import warnings\n",
    "import numpy as np\n",
    "import pandas as pd\n",
    "import seaborn as sns\n",
    "import matplotlib\n",
    "import matplotlib.pyplot as plt\n",
    "import scipy.stats as stats\n",
    "import statsmodels.api as sm\n",
    "from statsmodels.formula.api import ols\n",
    "from statsmodels.tools.eval_measures import rmse\n",
    "from statsmodels.stats.outliers_influence import variance_inflation_factor # 다중공선성 패키지 불러오기\n",
    "from sklearn.linear_model import LinearRegression # sklearn 선형회귀 모형 -> 변수 선택법을 위함\n",
    "from sklearn.feature_selection import RFE # 변수 선택법 (후진 제거법)\n",
    "from sklearn.preprocessing import scale # 데이터 scale\n",
    "from sklearn.ensemble import RandomForestClassifier\n",
    "from sklearn.ensemble import GradientBoostingClassifier\n",
    "%matplotlib inline\n",
    "warnings.filterwarnings('ignore')\n",
    "matplotlib.rc('font', family='NanumBarunGothic')\n",
    "plt.rcParams['axes.unicode_minus']=False\n",
    "ds_hmeq = pd.read_csv(\"./HMEQ.CSV\",engine=\"python\")\n",
    "ds_hmeq.head()"
   ]
  },
  {
   "cell_type": "code",
   "execution_count": 21,
   "metadata": {},
   "outputs": [
    {
     "data": {
      "text/plain": [
       "BAD          0\n",
       "LOAN         0\n",
       "MORTDUE      0\n",
       "VALUE       14\n",
       "REASON       0\n",
       "JOB         81\n",
       "YOJ        205\n",
       "DEROG        0\n",
       "DELINQ      30\n",
       "CLAGE       37\n",
       "NINQ        56\n",
       "CLNO         0\n",
       "DEBTINC      0\n",
       "dtype: int64"
      ]
     },
     "execution_count": 21,
     "metadata": {},
     "output_type": "execute_result"
    }
   ],
   "source": [
    "# 결측치 없다.\n",
    "ds_hmeq.isnull().sum(axis=0)"
   ]
  },
  {
   "cell_type": "code",
   "execution_count": 22,
   "metadata": {},
   "outputs": [],
   "source": [
    "# JOB의 결측치는 Other로 메꾼 후에 ds_hmeq데이터에 저장. inplace=false:저장안함\n",
    "ds_hmeq[\"JOB\"].fillna(\"Other\", inplace=True)\n",
    "# 숫자변수 결측치 mean으로 각 변수별 평균 계산 후 결측치 대체 \n",
    "ds_hmeq.fillna(ds_hmeq.mean(),inplace=True)"
   ]
  },
  {
   "cell_type": "code",
   "execution_count": 23,
   "metadata": {},
   "outputs": [
    {
     "data": {
      "text/html": [
       "<div>\n",
       "<style scoped>\n",
       "    .dataframe tbody tr th:only-of-type {\n",
       "        vertical-align: middle;\n",
       "    }\n",
       "\n",
       "    .dataframe tbody tr th {\n",
       "        vertical-align: top;\n",
       "    }\n",
       "\n",
       "    .dataframe thead th {\n",
       "        text-align: right;\n",
       "    }\n",
       "</style>\n",
       "<table border=\"1\" class=\"dataframe\">\n",
       "  <thead>\n",
       "    <tr style=\"text-align: right;\">\n",
       "      <th></th>\n",
       "      <th>BAD</th>\n",
       "      <th>LOAN</th>\n",
       "      <th>MORTDUE</th>\n",
       "      <th>VALUE</th>\n",
       "      <th>YOJ</th>\n",
       "      <th>DEROG</th>\n",
       "      <th>DELINQ</th>\n",
       "      <th>CLAGE</th>\n",
       "      <th>NINQ</th>\n",
       "      <th>CLNO</th>\n",
       "      <th>DEBTINC</th>\n",
       "      <th>REASON_DebtCon</th>\n",
       "      <th>REASON_HomeImp</th>\n",
       "      <th>JOB_Mgr</th>\n",
       "      <th>JOB_Office</th>\n",
       "      <th>JOB_Other</th>\n",
       "      <th>JOB_ProfExe</th>\n",
       "      <th>JOB_Sales</th>\n",
       "      <th>JOB_Self</th>\n",
       "    </tr>\n",
       "  </thead>\n",
       "  <tbody>\n",
       "    <tr>\n",
       "      <th>0</th>\n",
       "      <td>1</td>\n",
       "      <td>1700</td>\n",
       "      <td>30548</td>\n",
       "      <td>40320.0</td>\n",
       "      <td>9.0</td>\n",
       "      <td>0</td>\n",
       "      <td>0.0</td>\n",
       "      <td>101.466002</td>\n",
       "      <td>1.0</td>\n",
       "      <td>8</td>\n",
       "      <td>37.113614</td>\n",
       "      <td>0</td>\n",
       "      <td>1</td>\n",
       "      <td>0</td>\n",
       "      <td>0</td>\n",
       "      <td>1</td>\n",
       "      <td>0</td>\n",
       "      <td>0</td>\n",
       "      <td>0</td>\n",
       "    </tr>\n",
       "    <tr>\n",
       "      <th>1</th>\n",
       "      <td>1</td>\n",
       "      <td>1800</td>\n",
       "      <td>28502</td>\n",
       "      <td>43034.0</td>\n",
       "      <td>11.0</td>\n",
       "      <td>0</td>\n",
       "      <td>0.0</td>\n",
       "      <td>88.766030</td>\n",
       "      <td>0.0</td>\n",
       "      <td>8</td>\n",
       "      <td>36.884894</td>\n",
       "      <td>0</td>\n",
       "      <td>1</td>\n",
       "      <td>0</td>\n",
       "      <td>0</td>\n",
       "      <td>1</td>\n",
       "      <td>0</td>\n",
       "      <td>0</td>\n",
       "      <td>0</td>\n",
       "    </tr>\n",
       "    <tr>\n",
       "      <th>2</th>\n",
       "      <td>0</td>\n",
       "      <td>2300</td>\n",
       "      <td>102370</td>\n",
       "      <td>120953.0</td>\n",
       "      <td>2.0</td>\n",
       "      <td>0</td>\n",
       "      <td>0.0</td>\n",
       "      <td>90.992533</td>\n",
       "      <td>0.0</td>\n",
       "      <td>13</td>\n",
       "      <td>31.588503</td>\n",
       "      <td>0</td>\n",
       "      <td>1</td>\n",
       "      <td>0</td>\n",
       "      <td>1</td>\n",
       "      <td>0</td>\n",
       "      <td>0</td>\n",
       "      <td>0</td>\n",
       "      <td>0</td>\n",
       "    </tr>\n",
       "    <tr>\n",
       "      <th>3</th>\n",
       "      <td>1</td>\n",
       "      <td>2400</td>\n",
       "      <td>34863</td>\n",
       "      <td>47471.0</td>\n",
       "      <td>12.0</td>\n",
       "      <td>0</td>\n",
       "      <td>0.0</td>\n",
       "      <td>70.491080</td>\n",
       "      <td>1.0</td>\n",
       "      <td>21</td>\n",
       "      <td>38.263601</td>\n",
       "      <td>0</td>\n",
       "      <td>1</td>\n",
       "      <td>1</td>\n",
       "      <td>0</td>\n",
       "      <td>0</td>\n",
       "      <td>0</td>\n",
       "      <td>0</td>\n",
       "      <td>0</td>\n",
       "    </tr>\n",
       "    <tr>\n",
       "      <th>4</th>\n",
       "      <td>0</td>\n",
       "      <td>2400</td>\n",
       "      <td>98449</td>\n",
       "      <td>117195.0</td>\n",
       "      <td>4.0</td>\n",
       "      <td>0</td>\n",
       "      <td>0.0</td>\n",
       "      <td>93.811775</td>\n",
       "      <td>0.0</td>\n",
       "      <td>13</td>\n",
       "      <td>29.681827</td>\n",
       "      <td>0</td>\n",
       "      <td>1</td>\n",
       "      <td>0</td>\n",
       "      <td>1</td>\n",
       "      <td>0</td>\n",
       "      <td>0</td>\n",
       "      <td>0</td>\n",
       "      <td>0</td>\n",
       "    </tr>\n",
       "  </tbody>\n",
       "</table>\n",
       "</div>"
      ],
      "text/plain": [
       "   BAD  LOAN  MORTDUE     VALUE   YOJ  DEROG  DELINQ       CLAGE  NINQ  CLNO  \\\n",
       "0    1  1700    30548   40320.0   9.0      0     0.0  101.466002   1.0     8   \n",
       "1    1  1800    28502   43034.0  11.0      0     0.0   88.766030   0.0     8   \n",
       "2    0  2300   102370  120953.0   2.0      0     0.0   90.992533   0.0    13   \n",
       "3    1  2400    34863   47471.0  12.0      0     0.0   70.491080   1.0    21   \n",
       "4    0  2400    98449  117195.0   4.0      0     0.0   93.811775   0.0    13   \n",
       "\n",
       "     DEBTINC  REASON_DebtCon  REASON_HomeImp  JOB_Mgr  JOB_Office  JOB_Other  \\\n",
       "0  37.113614               0               1        0           0          1   \n",
       "1  36.884894               0               1        0           0          1   \n",
       "2  31.588503               0               1        0           1          0   \n",
       "3  38.263601               0               1        1           0          0   \n",
       "4  29.681827               0               1        0           1          0   \n",
       "\n",
       "   JOB_ProfExe  JOB_Sales  JOB_Self  \n",
       "0            0          0         0  \n",
       "1            0          0         0  \n",
       "2            0          0         0  \n",
       "3            0          0         0  \n",
       "4            0          0         0  "
      ]
     },
     "execution_count": 23,
     "metadata": {},
     "output_type": "execute_result"
    }
   ],
   "source": [
    "ds_churn_dummy = pd.get_dummies(ds_hmeq)\n",
    "ds_churn_dummy.head()"
   ]
  },
  {
   "cell_type": "code",
   "execution_count": 24,
   "metadata": {},
   "outputs": [
    {
     "name": "stdout",
     "output_type": "stream",
     "text": [
      "train data X size : (2604, 18)\n",
      "train data Y size : (2604,)\n",
      "test data X size : (1144, 18)\n",
      "test data Y size : (1144,)\n"
     ]
    }
   ],
   "source": [
    "# random seed 고정 매번 실행 시 같은 값을 얻음\n",
    "np.random.seed(seed = 1234)\n",
    "# 0.7(70%) 보다 작으면 True: train 데이터, 아니면 False: test 데이터\n",
    "msk = np.random.rand(ds_churn_dummy.shape[0], ) < 0.7\n",
    "ds_hmeq_train = ds_churn_dummy[msk]\n",
    "ds_hmeq_test = ds_churn_dummy[~msk]\n",
    "# train/test 데이터의 목표변수 설명변수 지정\n",
    "ds_hmeq_train_y = ds_hmeq_train[\"BAD\"]\n",
    "ds_hmeq_train_x = ds_hmeq_train.drop(\"BAD\", axis = 1, inplace = False)\n",
    "ds_hmeq_test_y = ds_hmeq_test[\"BAD\"]\n",
    "ds_hmeq_test_x = ds_hmeq_test.drop(\"BAD\", axis = 1, inplace = False)\n",
    "# train 데이터와 test 데이터 크기\n",
    "print(\"train data X size : {}\".format(ds_hmeq_train_x.shape))\n",
    "print(\"train data Y size : {}\".format(ds_hmeq_train_y.shape))\n",
    "print(\"test data X size : {}\".format(ds_hmeq_test_x.shape))\n",
    "print(\"test data Y size : {}\".format(ds_hmeq_test_y.shape))"
   ]
  },
  {
   "cell_type": "code",
   "execution_count": 25,
   "metadata": {},
   "outputs": [
    {
     "name": "stdout",
     "output_type": "stream",
     "text": [
      "Accuracy on training set:0.992\n",
      "Accuracy on training set:0.948427\n"
     ]
    }
   ],
   "source": [
    "rf_uncustomized = RandomForestClassifier(random_state=1234)\n",
    "rf_uncustomized.fit(ds_hmeq_train_x, ds_hmeq_train_y)\n",
    "\n",
    "# 훈련 데이터 정확도\n",
    "print(\"Accuracy on training set:{:.3f}\".format(rf_uncustomized.score(ds_hmeq_train_x,\n",
    "                                                                      ds_hmeq_train_y)))\n",
    "print(\"Accuracy on training set:{:3f}\".format(rf_uncustomized.score(ds_hmeq_test_x,\n",
    "                                                                      ds_hmeq_test_y)))"
   ]
  },
  {
   "cell_type": "code",
   "execution_count": 26,
   "metadata": {},
   "outputs": [
    {
     "data": {
      "text/html": [
       "<div>\n",
       "<style scoped>\n",
       "    .dataframe tbody tr th:only-of-type {\n",
       "        vertical-align: middle;\n",
       "    }\n",
       "\n",
       "    .dataframe tbody tr th {\n",
       "        vertical-align: top;\n",
       "    }\n",
       "\n",
       "    .dataframe thead th {\n",
       "        text-align: right;\n",
       "    }\n",
       "</style>\n",
       "<table border=\"1\" class=\"dataframe\">\n",
       "  <thead>\n",
       "    <tr style=\"text-align: right;\">\n",
       "      <th></th>\n",
       "      <th>LOAN</th>\n",
       "      <th>MORTDUE</th>\n",
       "      <th>VALUE</th>\n",
       "      <th>YOJ</th>\n",
       "      <th>DEROG</th>\n",
       "      <th>DELINQ</th>\n",
       "      <th>CLAGE</th>\n",
       "      <th>NINQ</th>\n",
       "      <th>CLNO</th>\n",
       "      <th>DEBTINC</th>\n",
       "      <th>REASON_DebtCon</th>\n",
       "      <th>REASON_HomeImp</th>\n",
       "      <th>JOB_Mgr</th>\n",
       "      <th>JOB_Office</th>\n",
       "      <th>JOB_Other</th>\n",
       "      <th>JOB_ProfExe</th>\n",
       "      <th>JOB_Sales</th>\n",
       "      <th>JOB_Self</th>\n",
       "    </tr>\n",
       "  </thead>\n",
       "  <tbody>\n",
       "    <tr>\n",
       "      <th>0</th>\n",
       "      <td>-1.546445</td>\n",
       "      <td>-0.994709</td>\n",
       "      <td>-1.227453</td>\n",
       "      <td>-0.020546</td>\n",
       "      <td>-0.26517</td>\n",
       "      <td>-0.337599</td>\n",
       "      <td>-0.962571</td>\n",
       "      <td>-0.019984</td>\n",
       "      <td>-1.424138</td>\n",
       "      <td>0.372555</td>\n",
       "      <td>-1.566391</td>\n",
       "      <td>1.566391</td>\n",
       "      <td>-0.374973</td>\n",
       "      <td>-0.446595</td>\n",
       "      <td>1.217524</td>\n",
       "      <td>-0.587402</td>\n",
       "      <td>-0.135576</td>\n",
       "      <td>-0.184808</td>\n",
       "    </tr>\n",
       "    <tr>\n",
       "      <th>1</th>\n",
       "      <td>-1.537818</td>\n",
       "      <td>-1.040082</td>\n",
       "      <td>-1.177823</td>\n",
       "      <td>0.250021</td>\n",
       "      <td>-0.26517</td>\n",
       "      <td>-0.337599</td>\n",
       "      <td>-1.117329</td>\n",
       "      <td>-0.663021</td>\n",
       "      <td>-1.424138</td>\n",
       "      <td>0.344145</td>\n",
       "      <td>-1.566391</td>\n",
       "      <td>1.566391</td>\n",
       "      <td>-0.374973</td>\n",
       "      <td>-0.446595</td>\n",
       "      <td>1.217524</td>\n",
       "      <td>-0.587402</td>\n",
       "      <td>-0.135576</td>\n",
       "      <td>-0.184808</td>\n",
       "    </tr>\n",
       "    <tr>\n",
       "      <th>2</th>\n",
       "      <td>-1.494683</td>\n",
       "      <td>0.598052</td>\n",
       "      <td>0.247041</td>\n",
       "      <td>-0.967531</td>\n",
       "      <td>-0.26517</td>\n",
       "      <td>-0.337599</td>\n",
       "      <td>-1.090197</td>\n",
       "      <td>-0.663021</td>\n",
       "      <td>-0.898712</td>\n",
       "      <td>-0.313747</td>\n",
       "      <td>-1.566391</td>\n",
       "      <td>1.566391</td>\n",
       "      <td>-0.374973</td>\n",
       "      <td>2.239164</td>\n",
       "      <td>-0.821339</td>\n",
       "      <td>-0.587402</td>\n",
       "      <td>-0.135576</td>\n",
       "      <td>-0.184808</td>\n",
       "    </tr>\n",
       "    <tr>\n",
       "      <th>3</th>\n",
       "      <td>-1.442920</td>\n",
       "      <td>0.633069</td>\n",
       "      <td>0.092557</td>\n",
       "      <td>-1.102815</td>\n",
       "      <td>-0.26517</td>\n",
       "      <td>-0.337599</td>\n",
       "      <td>-1.027931</td>\n",
       "      <td>-0.663021</td>\n",
       "      <td>-0.898712</td>\n",
       "      <td>-0.504711</td>\n",
       "      <td>-1.566391</td>\n",
       "      <td>1.566391</td>\n",
       "      <td>-0.374973</td>\n",
       "      <td>2.239164</td>\n",
       "      <td>-0.821339</td>\n",
       "      <td>-0.587402</td>\n",
       "      <td>-0.135576</td>\n",
       "      <td>-0.184808</td>\n",
       "    </tr>\n",
       "    <tr>\n",
       "      <th>4</th>\n",
       "      <td>-1.442920</td>\n",
       "      <td>0.642472</td>\n",
       "      <td>0.242451</td>\n",
       "      <td>-0.967531</td>\n",
       "      <td>-0.26517</td>\n",
       "      <td>-0.337599</td>\n",
       "      <td>-0.961666</td>\n",
       "      <td>-0.663021</td>\n",
       "      <td>-0.898712</td>\n",
       "      <td>-0.521514</td>\n",
       "      <td>-1.566391</td>\n",
       "      <td>1.566391</td>\n",
       "      <td>-0.374973</td>\n",
       "      <td>2.239164</td>\n",
       "      <td>-0.821339</td>\n",
       "      <td>-0.587402</td>\n",
       "      <td>-0.135576</td>\n",
       "      <td>-0.184808</td>\n",
       "    </tr>\n",
       "  </tbody>\n",
       "</table>\n",
       "</div>"
      ],
      "text/plain": [
       "       LOAN   MORTDUE     VALUE       YOJ    DEROG    DELINQ     CLAGE  \\\n",
       "0 -1.546445 -0.994709 -1.227453 -0.020546 -0.26517 -0.337599 -0.962571   \n",
       "1 -1.537818 -1.040082 -1.177823  0.250021 -0.26517 -0.337599 -1.117329   \n",
       "2 -1.494683  0.598052  0.247041 -0.967531 -0.26517 -0.337599 -1.090197   \n",
       "3 -1.442920  0.633069  0.092557 -1.102815 -0.26517 -0.337599 -1.027931   \n",
       "4 -1.442920  0.642472  0.242451 -0.967531 -0.26517 -0.337599 -0.961666   \n",
       "\n",
       "       NINQ      CLNO   DEBTINC  REASON_DebtCon  REASON_HomeImp   JOB_Mgr  \\\n",
       "0 -0.019984 -1.424138  0.372555       -1.566391        1.566391 -0.374973   \n",
       "1 -0.663021 -1.424138  0.344145       -1.566391        1.566391 -0.374973   \n",
       "2 -0.663021 -0.898712 -0.313747       -1.566391        1.566391 -0.374973   \n",
       "3 -0.663021 -0.898712 -0.504711       -1.566391        1.566391 -0.374973   \n",
       "4 -0.663021 -0.898712 -0.521514       -1.566391        1.566391 -0.374973   \n",
       "\n",
       "   JOB_Office  JOB_Other  JOB_ProfExe  JOB_Sales  JOB_Self  \n",
       "0   -0.446595   1.217524    -0.587402  -0.135576 -0.184808  \n",
       "1   -0.446595   1.217524    -0.587402  -0.135576 -0.184808  \n",
       "2    2.239164  -0.821339    -0.587402  -0.135576 -0.184808  \n",
       "3    2.239164  -0.821339    -0.587402  -0.135576 -0.184808  \n",
       "4    2.239164  -0.821339    -0.587402  -0.135576 -0.184808  "
      ]
     },
     "execution_count": 26,
     "metadata": {},
     "output_type": "execute_result"
    }
   ],
   "source": [
    "# train 데이터셋 스케일 조정\n",
    "ds_hmeq_train_x_scaled= scale(ds_hmeq_train_x, axis=0)\n",
    "# test 데이터셋 스케일 조정\n",
    "ds_hmeq_test_x_scaled =scale(ds_hmeq_test_x, axis = 0)\n",
    "# 스케일이 변경된 X변수 확인\n",
    "pd.DataFrame(ds_hmeq_train_x_scaled, columns = ds_hmeq_train_x.columns).head()"
   ]
  },
  {
   "cell_type": "markdown",
   "metadata": {},
   "source": [
    "# 그래디언트 부스팅 모델 Parameter 변경\n",
    "- learning_rate : 학습율 변경"
   ]
  },
  {
   "cell_type": "code",
   "execution_count": 29,
   "metadata": {},
   "outputs": [],
   "source": [
    "# train 및 test 정확도 결과 저장용\n",
    "train_accuracy = []\n",
    "test_accuracy = []\n",
    "# 0.01부터 1까지 0.05단위로 학습율 조정\n",
    "for lr in range(1,100,5):\n",
    "    gb1 = GradientBoostingClassifier(learning_rate=lr/100, random_state=1234)\n",
    "    gb1.fit(ds_hmeq_train_x_scaled,ds_hmeq_train_y)\n",
    "    train_accuracy.append(gb1.score(ds_hmeq_train_x_scaled,ds_hmeq_train_y))\n",
    "    test_accuracy.append(gb1.score(ds_hmeq_test_x_scaled,ds_hmeq_test_y))\n",
    "# 생성된 모델의 정확도 테이블 생성\n",
    "ds_accuracy1 = pd.DataFrame()\n",
    "ds_accuracy1[\"LearningRate\"] = [lr/100 for lr in range(1,100,5)]\n",
    "ds_accuracy1[\"TrainAccuracy\"]=train_accuracy\n",
    "ds_accuracy1[\"TestAccuracy\"]=test_accuracy"
   ]
  },
  {
   "cell_type": "code",
   "execution_count": 30,
   "metadata": {},
   "outputs": [
    {
     "data": {
      "text/plain": [
       "<matplotlib.axes._subplots.AxesSubplot at 0x259ad2144a8>"
      ]
     },
     "execution_count": 30,
     "metadata": {},
     "output_type": "execute_result"
    },
    {
     "data": {
      "image/png": "[encoded data removed]",
      "text/plain": [
       "<Figure size 432x288 with 1 Axes>"
      ]
     },
     "metadata": {
      "needs_background": "light"
     },
     "output_type": "display_data"
    }
   ],
   "source": [
    "# 테이블 결과\n",
    "ds_accuracy1.round(3)\n",
    "# 그래프생성 \n",
    "# y축 - 정확도 x축 - Tree 개수\n",
    "ds_accuracy1.set_index(\"LearningRate\",inplace=False).plot.line()"
   ]
  },
  {
   "cell_type": "code",
   "execution_count": 32,
   "metadata": {},
   "outputs": [],
   "source": [
    "# 트리 수 : 50~150 까지  10단위로 증가 및 학습율 : 0.2로 고정\n",
    "para_estimators = [estimators for estimators in range(50,150,10)]\n",
    "lr = 0.2\n",
    "# train 및 테스트 정확도 결과 저장용\n",
    "train_accuracy =  []\n",
    "test_accuracy = []\n",
    "# 트리 개수 (1~30) 별로 그래디언트 부스팅 모델 생성 및 정확도 값 저장\n",
    "for estimators in para_estimators:\n",
    "    gb2 = GradientBoostingClassifier(learning_rate=0.2, n_estimators=estimators, random_state=1234)\n",
    "    gb2.fit(ds_hmeq_train_x_scaled,ds_hmeq_train_y)\n",
    "    train_accuracy.append(gb2.score(ds_hmeq_train_x_scaled,ds_hmeq_train_y))\n",
    "    test_accuracy.append(gb2.score(ds_hmeq_test_x_scaled,ds_hmeq_test_y))\n",
    "# 저장된 모델의 train/ test 데이터 분류 정확도 테이블 생성\n",
    "ds_accuracy2 = pd.DataFrame()\n",
    "ds_accuracy2[\"Estimators\"] = para_estimators\n",
    "ds_accuracy2[\"TrainAccuracy\"]=train_accuracy\n",
    "ds_accuracy2[\"TestAccuracy\"]=test_accuracy"
   ]
  },
  {
   "cell_type": "code",
   "execution_count": 33,
   "metadata": {},
   "outputs": [
    {
     "data": {
      "text/plain": [
       "<matplotlib.axes._subplots.AxesSubplot at 0x259ad28e198>"
      ]
     },
     "execution_count": 33,
     "metadata": {},
     "output_type": "execute_result"
    },
    {
     "data": {
      "image/png": "[encoded data removed]",
      "text/plain": [
       "<Figure size 432x288 with 1 Axes>"
      ]
     },
     "metadata": {
      "needs_background": "light"
     },
     "output_type": "display_data"
    }
   ],
   "source": [
    "# 테이블 결과\n",
    "ds_accuracy2.round(3)\n",
    "# 그래프생성\n",
    "ds_accuracy2.set_index(\"Estimators\",inplace=False).plot.line()"
   ]
  },
  {
   "cell_type": "markdown",
   "metadata": {},
   "source": [
    "# 그래디언트 부스팅 모델 Parameter 변경\n",
    "- max_depth : 최대 깊이 변경"
   ]
  },
  {
   "cell_type": "code",
   "execution_count": 36,
   "metadata": {},
   "outputs": [],
   "source": [
    "lr = 0.2; n_estimators = 100;\n",
    "para_max_depth = [i+1 for i in range(5)]\n",
    "# train 및 테스트 정확도 결과 저장용\n",
    "train_accuracy =  []\n",
    "test_accuracy = []\n",
    "# 트리 최대 깊이별로 그래디언트 부스팅 모델 생성 및 정확도값 저장\n",
    "for depth in para_max_depth:\n",
    "    gb3 = GradientBoostingClassifier(learning_rate=0.2, n_estimators=n_estimators,max_depth=depth, random_state=1234)\n",
    "    gb3.fit(ds_hmeq_train_x_scaled,ds_hmeq_train_y)\n",
    "    train_accuracy.append(gb3.score(ds_hmeq_train_x_scaled,ds_hmeq_train_y))\n",
    "    test_accuracy.append(gb3.score(ds_hmeq_test_x_scaled,ds_hmeq_test_y))\n",
    "# 데이터 테이블로 저장\n",
    "ds_accuracy3 = pd.DataFrame()\n",
    "ds_accuracy3[\"MaxDepth\"] = para_max_depth\n",
    "ds_accuracy3[\"TrainAccuracy\"]=train_accuracy\n",
    "ds_accuracy3[\"TestAccuracy\"]=test_accuracy"
   ]
  },
  {
   "cell_type": "code",
   "execution_count": 37,
   "metadata": {},
   "outputs": [
    {
     "data": {
      "text/plain": [
       "<matplotlib.axes._subplots.AxesSubplot at 0x259ad2fefd0>"
      ]
     },
     "execution_count": 37,
     "metadata": {},
     "output_type": "execute_result"
    },
    {
     "data": {
      "image/png": "[encoded data removed]",
      "text/plain": [
       "<Figure size 432x288 with 1 Axes>"
      ]
     },
     "metadata": {
      "needs_background": "light"
     },
     "output_type": "display_data"
    }
   ],
   "source": [
    "# 테이블 결과\n",
    "ds_accuracy3.round(3)\n",
    "# 그래프생성\n",
    "ds_accuracy3.set_index(\"MaxDepth\", inplace = False).plot.line()"
   ]
  },
  {
   "cell_type": "code",
   "execution_count": 38,
   "metadata": {},
   "outputs": [
    {
     "data": {
      "image/png": "[encoded data removed]",
      "text/plain": [
       "<Figure size 432x288 with 1 Axes>"
      ]
     },
     "metadata": {
      "needs_background": "light"
     },
     "output_type": "display_data"
    }
   ],
   "source": [
    "# 최종 모델\n",
    "gb_model = GradientBoostingClassifier(learning_rate=0.1,max_depth=4,min_samples_leaf=30,n_estimators=5,random_state=1234)\n",
    "gb_model.fit(ds_hmeq_train_x,ds_hmeq_train_y)\n",
    "# rf_model.featrue_importance_로 설명변수 중요도 확인\n",
    "ds_feature_importance = pd.DataFrame()\n",
    "ds_feature_importance[\"feature\"] = ds_hmeq_train_x.columns\n",
    "ds_feature_importance[\"importance\"] = gb_model.feature_importances_\n",
    "ds_feature_importance.sort_values(by=\"importance\",ascending=False).round(3)\n",
    "\n",
    "# 설명변수 중요도 그리는 함수 정의\n",
    "def plot_feature_importances(model):\n",
    "    n_feature = ds_hmeq_train_x.shape[1]\n",
    "    plt.barh(range(n_feature),model.feature_importances_,align=\"center\")\n",
    "    plt.yticks(np.arange(n_feature), ds_hmeq_train_x.columns)\n",
    "    plt.xlabel(\"설명변수 중요도\")\n",
    "    plt.ylabel(\"설명변수\")\n",
    "    plt.ylim(-1, n_feature)\n",
    "# 설명변수 중요도 그리는 함수 실행\n",
    "plot_feature_importances(gb_model)"
   ]
  },
  {
   "cell_type": "code",
   "execution_count": null,
   "metadata": {},
   "outputs": [],
   "source": []
  }
 ],
 "metadata": {
  "kernelspec": {
   "display_name": "Python 3",
   "language": "python",
   "name": "python3"
  },
  "language_info": {
   "codemirror_mode": {
    "name": "ipython",
    "version": 3
   },
   "file_extension": ".py",
   "mimetype": "text/x-python",
   "name": "python",
   "nbconvert_exporter": "python",
   "pygments_lexer": "ipython3",
   "version": "3.6.7"
  }
 },
 "nbformat": 4,
 "nbformat_minor": 2
}
