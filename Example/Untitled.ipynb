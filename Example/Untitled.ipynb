{
 "cells": [
  {
   "cell_type": "code",
   "execution_count": 16,
   "metadata": {},
   "outputs": [
    {
     "ename": "NameError",
     "evalue": "name 'IMAGE_PIXELS' is not defined",
     "output_type": "error",
     "traceback": [
      "\u001b[1;31m---------------------------------------------------------------------------\u001b[0m",
      "\u001b[1;31mNameError\u001b[0m                                 Traceback (most recent call last)",
      "\u001b[1;32m<ipython-input-16-d1701d49dee3>\u001b[0m in \u001b[0;36m<module>\u001b[1;34m\u001b[0m\n\u001b[0;32m      2\u001b[0m \u001b[1;32mimport\u001b[0m \u001b[0mtensorflow\u001b[0m \u001b[1;32mas\u001b[0m \u001b[0mtf\u001b[0m\u001b[1;33m\u001b[0m\u001b[1;33m\u001b[0m\u001b[0m\n\u001b[0;32m      3\u001b[0m weights = tf.Variable(\n\u001b[1;32m----> 4\u001b[1;33m     tf.truncated_normal([IMAGE_PIXELS, hidden1_units],\n\u001b[0m\u001b[0;32m      5\u001b[0m                     stddev=1.0 / math.sqrt(float(IMAGE_PIXELS))), name='weights')\n\u001b[0;32m      6\u001b[0m \u001b[1;33m\u001b[0m\u001b[0m\n",
      "\u001b[1;31mNameError\u001b[0m: name 'IMAGE_PIXELS' is not defined"
     ]
    }
   ],
   "source": [
    "# tf.Variable\n",
    "import tensorflow as tf\n",
    "weights = tf.Variable(\n",
    "    tf.truncated_normal([IMAGE_PIXELS, hidden1_units],\n",
    "                    stddev=1.0 / math.sqrt(float(IMAGE_PIXELS))), name='weights')\n",
    "\n",
    "biases = tf.Variable(tf.zeros([hidden1_units]), name='biases')\n"
   ]
  },
  {
   "cell_type": "code",
   "execution_count": 15,
   "metadata": {},
   "outputs": [
    {
     "ename": "SyntaxError",
     "evalue": "positional argument follows keyword argument (<ipython-input-15-9326a407a44c>, line 3)",
     "output_type": "error",
     "traceback": [
      "\u001b[1;36m  File \u001b[1;32m\"<ipython-input-15-9326a407a44c>\"\u001b[1;36m, line \u001b[1;32m3\u001b[0m\n\u001b[1;33m    images_placeholder = tf.placeholder(tf.float32, shape=(batch_size), IMAGE_PIXELS)\u001b[0m\n\u001b[1;37m                                                                       ^\u001b[0m\n\u001b[1;31mSyntaxError\u001b[0m\u001b[1;31m:\u001b[0m positional argument follows keyword argument\n"
     ]
    }
   ],
   "source": [
    "# tf.placeholder\n",
    "import tensorflow as tf\n",
    "images_placeholder = tf.placeholder(tf.float32, shape=(batch_size), IMAGE_PIXELS)\n",
    "labels_placeholder = tf.placeholder(tf.int32, shape=(batch_size))\n",
    "\n",
    "for step in xrange(FLAGS.max_steps):\n",
    "    feed_dict = {images_placeholder: images_feed,labels_placeholder: labels_feed,}\n",
    "    _, loss_value = sess.run([train_op, loss], feed_dict=feed_dict)"
   ]
  },
  {
   "cell_type": "code",
   "execution_count": null,
   "metadata": {},
   "outputs": [],
   "source": []
  }
 ],
 "metadata": {
  "kernelspec": {
   "display_name": "Python 3",
   "language": "python",
   "name": "python3"
  },
  "language_info": {
   "codemirror_mode": {
    "name": "ipython",
    "version": 3
   },
   "file_extension": ".py",
   "mimetype": "text/x-python",
   "name": "python",
   "nbconvert_exporter": "python",
   "pygments_lexer": "ipython3",
   "version": "3.6.7"
  }
 },
 "nbformat": 4,
 "nbformat_minor": 2
}
