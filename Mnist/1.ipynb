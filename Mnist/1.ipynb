{
 "cells": [
  {
   "cell_type": "code",
   "execution_count": 7,
   "metadata": {},
   "outputs": [
    {
     "ename": "TabError",
     "evalue": "inconsistent use of tabs and spaces in indentation (<ipython-input-7-2b8aa6fd5fcb>, line 30)",
     "output_type": "error",
     "traceback": [
      "\u001b[1;36m  File \u001b[1;32m\"<ipython-input-7-2b8aa6fd5fcb>\"\u001b[1;36m, line \u001b[1;32m30\u001b[0m\n\u001b[1;33m    pixel = Im.load()\u001b[0m\n\u001b[1;37m                     ^\u001b[0m\n\u001b[1;31mTabError\u001b[0m\u001b[1;31m:\u001b[0m inconsistent use of tabs and spaces in indentation\n"
     ]
    }
   ],
   "source": [
    "import os\n",
    "from PIL import Image\n",
    "from array import *\n",
    "from random import shuffle\n",
    "\n",
    "path = \"C:\\Users\\admin1\\test\\MNIST\"\n",
    "# Load from and save to\n",
    "Names = [['./number','train'], ['./number_test','test']]\n",
    "\n",
    "for name in Names:\n",
    "\t\n",
    "\tdata_image = array('B')\n",
    "\tdata_label = array('B')\n",
    "\n",
    "\tFileList = []\n",
    "\tfor dirname in os.listdir(name[0])[1:]: # [1:] Excludes .DS_Store from Mac OS\n",
    "\t\tpath = os.path.join(name[0],dirname)\n",
    "\t\tfor filename in os.listdir(path):\n",
    "\t\t\tif filename.endswith(\".jpg\"):\n",
    "\t\t\t\tFileList.append(os.path.join(name[0],dirname,filename))\n",
    "\n",
    "\tshuffle(FileList) # Usefull for further segmenting the validation set\n",
    "\n",
    "\tfor filename in FileList:\n",
    "\n",
    "\t\tlabel = int(filename.split('/')[2])\n",
    "\n",
    "\t\tIm = Image.open(filename)\n",
    "\n",
    "        pixel = Im.load()\n",
    "\n",
    "\t\twidth, height = Im.size\n",
    "\n",
    "\t\tfor x in range(0,width):\n",
    "\t\t\tfor y in range(0,height):\n",
    "\t\t\t\tdata_image.append(pixel[y,x])\n",
    "\n",
    "\t\tdata_label.append(label) # labels start (one unsigned byte each)\n",
    "\n",
    "\thexval = \"{0:#0{1}x}\".format(len(FileList),6) # number of files in HEX\n",
    "\n",
    "\t# header for label array\n",
    "\n",
    "\theader = array('B')\n",
    "\theader.extend([0,0,8,1,0,0])\n",
    "\theader.append(int('0x'+hexval[2:][:2],16))\n",
    "\theader.append(int('0x'+hexval[2:][2:],16))\n",
    "\t\n",
    "\tdata_label = header + data_label\n",
    "\n",
    "\t# additional header for images array\n",
    "\t\n",
    "\tif max([width,height]) <= 256:\n",
    "\t\theader.extend([0,0,0,width,0,0,0,height])\n",
    "\telse:\n",
    "\t\traise ValueError('Image exceeds maximum size: 256x256 pixels');\n",
    "\n",
    "\theader[3] = 3 # Changing MSB for image data (0x00000803)\n",
    "\t\n",
    "\tdata_image = header + data_image\n",
    "\n",
    "\toutput_file = open(name[1]+'-images-idx3-ubyte', 'wb')\n",
    "\tdata_image.tofile(output_file)\n",
    "\toutput_file.close()\n",
    "\n",
    "\toutput_file = open(name[1]+'-labels-idx1-ubyte', 'wb')\n",
    "\tdata_label.tofile(output_file)\n",
    "\toutput_file.close()\n",
    "\n",
    "# gzip resulting files\n",
    "\n",
    "for name in Names:\n",
    "\tos.system('gzip '+name[1]+'-images-idx3-ubyte')\n",
    "\tos.system('gzip '+name[1]+'-labels-idx1-ubyte')"
   ]
  },
  {
   "cell_type": "code",
   "execution_count": null,
   "metadata": {},
   "outputs": [],
   "source": []
  }
 ],
 "metadata": {
  "kernelspec": {
   "display_name": "Python 3",
   "language": "python",
   "name": "python3"
  },
  "language_info": {
   "codemirror_mode": {
    "name": "ipython",
    "version": 3
   },
   "file_extension": ".py",
   "mimetype": "text/x-python",
   "name": "python",
   "nbconvert_exporter": "python",
   "pygments_lexer": "ipython3",
   "version": "3.6.7"
  }
 },
 "nbformat": 4,
 "nbformat_minor": 2
}
