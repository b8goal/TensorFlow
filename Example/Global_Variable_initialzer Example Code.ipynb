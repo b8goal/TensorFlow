{
 "cells": [
  {
   "cell_type": "code",
   "execution_count": 9,
   "metadata": {},
   "outputs": [
    {
     "name": "stdout",
     "output_type": "stream",
     "text": [
      "4\n"
     ]
    }
   ],
   "source": [
    "import tensorflow as tf\n",
    "z = tf.Variable(4)\n",
    "with tf.Session() as session:\n",
    "        #session.run(tf.global_variables_initializer())\n",
    "        print(session.run(z)) \n",
    "# 다음과 같이 실행해보면 z가 실행이 되지않습니다.\n",
    "\n"
   ]
  },
  {
   "cell_type": "code",
   "execution_count": 12,
   "metadata": {},
   "outputs": [
    {
     "name": "stdout",
     "output_type": "stream",
     "text": [
      "x =  4\n",
      "y =  40\n",
      "z =  4\n",
      "a =  44\n"
     ]
    }
   ],
   "source": [
    "import tensorflow as tf\n",
    "x = tf.constant(35, name='x')\n",
    "y = tf.Variable(x + 5, name='y')\n",
    "z = tf.Variable(4)\n",
    "\n",
    "a = y + z\n",
    "with tf.Session() as session:\n",
    "        session.run(tf.global_variables_initializer())\n",
    "        print(\"x = \", session.run(z))\n",
    "        print(\"y = \", session.run(y))\n",
    "        print(\"z = \", session.run(z))\n",
    "        print(\"a = \", session.run(a))\n"
   ]
  },
  {
   "cell_type": "code",
   "execution_count": null,
   "metadata": {},
   "outputs": [],
   "source": []
  }
 ],
 "metadata": {
  "kernelspec": {
   "display_name": "Python 3",
   "language": "python",
   "name": "python3"
  },
  "language_info": {
   "codemirror_mode": {
    "name": "ipython",
    "version": 3
   },
   "file_extension": ".py",
   "mimetype": "text/x-python",
   "name": "python",
   "nbconvert_exporter": "python",
   "pygments_lexer": "ipython3",
   "version": "3.6.7"
  }
 },
 "nbformat": 4,
 "nbformat_minor": 2
}
