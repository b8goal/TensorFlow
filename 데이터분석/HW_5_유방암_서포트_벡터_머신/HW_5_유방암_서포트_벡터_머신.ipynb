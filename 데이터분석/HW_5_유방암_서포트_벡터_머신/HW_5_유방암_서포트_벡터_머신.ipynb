{
 "cells": [
  {
   "cell_type": "code",
   "execution_count": 68,
   "metadata": {},
   "outputs": [
    {
     "data": {
      "text/html": [
       "<div>\n",
       "<style scoped>\n",
       "    .dataframe tbody tr th:only-of-type {\n",
       "        vertical-align: middle;\n",
       "    }\n",
       "\n",
       "    .dataframe tbody tr th {\n",
       "        vertical-align: top;\n",
       "    }\n",
       "\n",
       "    .dataframe thead th {\n",
       "        text-align: right;\n",
       "    }\n",
       "</style>\n",
       "<table border=\"1\" class=\"dataframe\">\n",
       "  <thead>\n",
       "    <tr style=\"text-align: right;\">\n",
       "      <th></th>\n",
       "      <th>diagnosis</th>\n",
       "      <th>mean radius</th>\n",
       "      <th>mean texture</th>\n",
       "      <th>mean perimeter</th>\n",
       "      <th>mean area</th>\n",
       "      <th>mean smoothness</th>\n",
       "      <th>mean compactness</th>\n",
       "      <th>mean concavity</th>\n",
       "      <th>mean concave points</th>\n",
       "      <th>mean symmetry</th>\n",
       "      <th>...</th>\n",
       "      <th>worst radius</th>\n",
       "      <th>worst texture</th>\n",
       "      <th>worst perimeter</th>\n",
       "      <th>worst area</th>\n",
       "      <th>worst smoothness</th>\n",
       "      <th>worst compactness</th>\n",
       "      <th>worst concavity</th>\n",
       "      <th>worst concave points</th>\n",
       "      <th>worst symmetry</th>\n",
       "      <th>worst fractal dimension</th>\n",
       "    </tr>\n",
       "  </thead>\n",
       "  <tbody>\n",
       "    <tr>\n",
       "      <th>0</th>\n",
       "      <td>0</td>\n",
       "      <td>17.99</td>\n",
       "      <td>10.38</td>\n",
       "      <td>122.80</td>\n",
       "      <td>1001.0</td>\n",
       "      <td>0.11840</td>\n",
       "      <td>0.27760</td>\n",
       "      <td>0.3001</td>\n",
       "      <td>0.14710</td>\n",
       "      <td>0.2419</td>\n",
       "      <td>...</td>\n",
       "      <td>25.38</td>\n",
       "      <td>17.33</td>\n",
       "      <td>184.60</td>\n",
       "      <td>2019.0</td>\n",
       "      <td>0.1622</td>\n",
       "      <td>0.6656</td>\n",
       "      <td>0.7119</td>\n",
       "      <td>0.2654</td>\n",
       "      <td>0.4601</td>\n",
       "      <td>0.11890</td>\n",
       "    </tr>\n",
       "    <tr>\n",
       "      <th>1</th>\n",
       "      <td>0</td>\n",
       "      <td>20.57</td>\n",
       "      <td>17.77</td>\n",
       "      <td>132.90</td>\n",
       "      <td>1326.0</td>\n",
       "      <td>0.08474</td>\n",
       "      <td>0.07864</td>\n",
       "      <td>0.0869</td>\n",
       "      <td>0.07017</td>\n",
       "      <td>0.1812</td>\n",
       "      <td>...</td>\n",
       "      <td>24.99</td>\n",
       "      <td>23.41</td>\n",
       "      <td>158.80</td>\n",
       "      <td>1956.0</td>\n",
       "      <td>0.1238</td>\n",
       "      <td>0.1866</td>\n",
       "      <td>0.2416</td>\n",
       "      <td>0.1860</td>\n",
       "      <td>0.2750</td>\n",
       "      <td>0.08902</td>\n",
       "    </tr>\n",
       "    <tr>\n",
       "      <th>2</th>\n",
       "      <td>0</td>\n",
       "      <td>19.69</td>\n",
       "      <td>21.25</td>\n",
       "      <td>130.00</td>\n",
       "      <td>1203.0</td>\n",
       "      <td>0.10960</td>\n",
       "      <td>0.15990</td>\n",
       "      <td>0.1974</td>\n",
       "      <td>0.12790</td>\n",
       "      <td>0.2069</td>\n",
       "      <td>...</td>\n",
       "      <td>23.57</td>\n",
       "      <td>25.53</td>\n",
       "      <td>152.50</td>\n",
       "      <td>1709.0</td>\n",
       "      <td>0.1444</td>\n",
       "      <td>0.4245</td>\n",
       "      <td>0.4504</td>\n",
       "      <td>0.2430</td>\n",
       "      <td>0.3613</td>\n",
       "      <td>0.08758</td>\n",
       "    </tr>\n",
       "    <tr>\n",
       "      <th>3</th>\n",
       "      <td>0</td>\n",
       "      <td>11.42</td>\n",
       "      <td>20.38</td>\n",
       "      <td>77.58</td>\n",
       "      <td>386.1</td>\n",
       "      <td>0.14250</td>\n",
       "      <td>0.28390</td>\n",
       "      <td>0.2414</td>\n",
       "      <td>0.10520</td>\n",
       "      <td>0.2597</td>\n",
       "      <td>...</td>\n",
       "      <td>14.91</td>\n",
       "      <td>26.50</td>\n",
       "      <td>98.87</td>\n",
       "      <td>567.7</td>\n",
       "      <td>0.2098</td>\n",
       "      <td>0.8663</td>\n",
       "      <td>0.6869</td>\n",
       "      <td>0.2575</td>\n",
       "      <td>0.6638</td>\n",
       "      <td>0.17300</td>\n",
       "    </tr>\n",
       "    <tr>\n",
       "      <th>4</th>\n",
       "      <td>0</td>\n",
       "      <td>20.29</td>\n",
       "      <td>14.34</td>\n",
       "      <td>135.10</td>\n",
       "      <td>1297.0</td>\n",
       "      <td>0.10030</td>\n",
       "      <td>0.13280</td>\n",
       "      <td>0.1980</td>\n",
       "      <td>0.10430</td>\n",
       "      <td>0.1809</td>\n",
       "      <td>...</td>\n",
       "      <td>22.54</td>\n",
       "      <td>16.67</td>\n",
       "      <td>152.20</td>\n",
       "      <td>1575.0</td>\n",
       "      <td>0.1374</td>\n",
       "      <td>0.2050</td>\n",
       "      <td>0.4000</td>\n",
       "      <td>0.1625</td>\n",
       "      <td>0.2364</td>\n",
       "      <td>0.07678</td>\n",
       "    </tr>\n",
       "  </tbody>\n",
       "</table>\n",
       "<p>5 rows × 31 columns</p>\n",
       "</div>"
      ],
      "text/plain": [
       "   diagnosis  mean radius  mean texture  mean perimeter  mean area  \\\n",
       "0          0        17.99         10.38          122.80     1001.0   \n",
       "1          0        20.57         17.77          132.90     1326.0   \n",
       "2          0        19.69         21.25          130.00     1203.0   \n",
       "3          0        11.42         20.38           77.58      386.1   \n",
       "4          0        20.29         14.34          135.10     1297.0   \n",
       "\n",
       "   mean smoothness  mean compactness  mean concavity  mean concave points  \\\n",
       "0          0.11840           0.27760          0.3001              0.14710   \n",
       "1          0.08474           0.07864          0.0869              0.07017   \n",
       "2          0.10960           0.15990          0.1974              0.12790   \n",
       "3          0.14250           0.28390          0.2414              0.10520   \n",
       "4          0.10030           0.13280          0.1980              0.10430   \n",
       "\n",
       "   mean symmetry           ...             worst radius  worst texture  \\\n",
       "0         0.2419           ...                    25.38          17.33   \n",
       "1         0.1812           ...                    24.99          23.41   \n",
       "2         0.2069           ...                    23.57          25.53   \n",
       "3         0.2597           ...                    14.91          26.50   \n",
       "4         0.1809           ...                    22.54          16.67   \n",
       "\n",
       "   worst perimeter  worst area  worst smoothness  worst compactness  \\\n",
       "0           184.60      2019.0            0.1622             0.6656   \n",
       "1           158.80      1956.0            0.1238             0.1866   \n",
       "2           152.50      1709.0            0.1444             0.4245   \n",
       "3            98.87       567.7            0.2098             0.8663   \n",
       "4           152.20      1575.0            0.1374             0.2050   \n",
       "\n",
       "   worst concavity  worst concave points  worst symmetry  \\\n",
       "0           0.7119                0.2654          0.4601   \n",
       "1           0.2416                0.1860          0.2750   \n",
       "2           0.4504                0.2430          0.3613   \n",
       "3           0.6869                0.2575          0.6638   \n",
       "4           0.4000                0.1625          0.2364   \n",
       "\n",
       "   worst fractal dimension  \n",
       "0                  0.11890  \n",
       "1                  0.08902  \n",
       "2                  0.08758  \n",
       "3                  0.17300  \n",
       "4                  0.07678  \n",
       "\n",
       "[5 rows x 31 columns]"
      ]
     },
     "execution_count": 68,
     "metadata": {},
     "output_type": "execute_result"
    }
   ],
   "source": [
    "import warnings\n",
    "import graphviz\n",
    "import re\n",
    "import os\n",
    "import numpy as np\n",
    "import pandas as pd\n",
    "import seaborn as sns\n",
    "import matplotlib\n",
    "import matplotlib.pyplot as plt\n",
    "import scipy.stats as stats\n",
    "import statsmodels.api as sm\n",
    "from statsmodels.formula.api import ols\n",
    "from statsmodels.tools.eval_measures import rmse\n",
    "from statsmodels.stats.outliers_influence import variance_inflation_factor # 다중공선성 패키지 불러오기\n",
    "from sklearn.linear_model import LinearRegression # sklearn 선형회귀 모형 -> 변수 선택법을 위함\n",
    "from sklearn.feature_selection import RFE # 변수 선택법 (후진 제거법)\n",
    "from sklearn.preprocessing import scale # 데이터 scale\n",
    "from sklearn.tree import DecisionTreeClassifier\n",
    "from sklearn.tree import export_graphviz\n",
    "from sklearn.model_selection import train_test_split, cross_val_score, GridSearchCV\n",
    "from sklearn.metrics import make_scorer, accuracy_score, fbeta_score\n",
    "# Import ML Classification algos\n",
    "from sklearn.ensemble import RandomForestClassifier, AdaBoostClassifier\n",
    "from sklearn.svm import SVC\n",
    "from sklearn.linear_model import LogisticRegression\n",
    "from sklearn.preprocessing import MinMaxScaler\n",
    "warnings.filterwarnings('ignore')\n",
    "%matplotlib inline\n",
    "matplotlib.rc('font', family='NanumBarunGothic')\n",
    "plt.rcParams['axes.unicode_minus']=False\n",
    "data = pd.read_csv(\"./유방암.CSV\",engine=\"python\")\n",
    "data.head()"
   ]
  },
  {
   "cell_type": "code",
   "execution_count": 69,
   "metadata": {},
   "outputs": [
    {
     "name": "stdout",
     "output_type": "stream",
     "text": [
      "<class 'pandas.core.frame.DataFrame'>\n",
      "RangeIndex: 569 entries, 0 to 568\n",
      "Data columns (total 31 columns):\n",
      "diagnosis                  569 non-null int64\n",
      "mean radius                569 non-null float64\n",
      "mean texture               569 non-null float64\n",
      "mean perimeter             569 non-null float64\n",
      "mean area                  569 non-null float64\n",
      "mean smoothness            569 non-null float64\n",
      "mean compactness           569 non-null float64\n",
      "mean concavity             569 non-null float64\n",
      "mean concave points        569 non-null float64\n",
      "mean symmetry              569 non-null float64\n",
      "mean fractal dimension     569 non-null float64\n",
      "radius error               569 non-null float64\n",
      "texture error              569 non-null float64\n",
      "perimeter error            569 non-null float64\n",
      "area error                 569 non-null float64\n",
      "smoothness error           569 non-null float64\n",
      "compactness error          569 non-null float64\n",
      "concavity error            569 non-null float64\n",
      "concave points error       569 non-null float64\n",
      "symmetry error             569 non-null float64\n",
      "fractal dimension error    569 non-null float64\n",
      "worst radius               569 non-null float64\n",
      "worst texture              569 non-null float64\n",
      "worst perimeter            569 non-null float64\n",
      "worst area                 569 non-null float64\n",
      "worst smoothness           569 non-null float64\n",
      "worst compactness          569 non-null float64\n",
      "worst concavity            569 non-null float64\n",
      "worst concave points       569 non-null float64\n",
      "worst symmetry             569 non-null float64\n",
      "worst fractal dimension    569 non-null float64\n",
      "dtypes: float64(30), int64(1)\n",
      "memory usage: 137.9 KB\n"
     ]
    },
    {
     "data": {
      "text/plain": [
       "<matplotlib.axes._subplots.AxesSubplot at 0x1eaae5feb38>"
      ]
     },
     "execution_count": 69,
     "metadata": {},
     "output_type": "execute_result"
    },
    {
     "data": {
      "image/png": "[encoded data removed]",
      "text/plain": [
       "<Figure size 432x288 with 1 Axes>"
      ]
     },
     "metadata": {
      "needs_background": "light"
     },
     "output_type": "display_data"
    }
   ],
   "source": [
    "# 결측치 없다.\n",
    "data.isnull().sum(axis=0)\n",
    "#데이터 타입 확인\n",
    "data.info()\n",
    "# Checking if classes are unbalanced or balanced\n",
    "data['diagnosis'].value_counts()\n",
    "# '1' 은 Malignant으로 악성이다 -> 212/(212 + 357) = 0.37 \n",
    "# '0' 은 Benign으로 양성이다 -> 357/(212+357) = 0.627\n",
    "sns.countplot(data.diagnosis)\n",
    "sns.countplot(data['diagnosis'],  palette = \"husl\")"
   ]
  },
  {
   "cell_type": "markdown",
   "metadata": {},
   "source": [
    "# 데이터 스케일\n",
    "- **1. 모든 분포가 왼쪽으로 치우쳐 있기 때문에 로그 변환을 적용해 분포를 보다 정상으로 만들고 왼쪽 꼬리를 중앙으로 sacle한다**\n",
    "\n",
    "- **2. 전체 데이터를 (0,1)사이의 MinMaxScaler과 평균 0 표준 편차 1 만들어 값을 변화시킨다.**"
   ]
  },
  {
   "cell_type": "code",
   "execution_count": 70,
   "metadata": {},
   "outputs": [
    {
     "data": {
      "text/plain": [
       "array([[<matplotlib.axes._subplots.AxesSubplot object at 0x000001EAAD52A358>,\n",
       "        <matplotlib.axes._subplots.AxesSubplot object at 0x000001EAAD542630>,\n",
       "        <matplotlib.axes._subplots.AxesSubplot object at 0x000001EAAD45A470>,\n",
       "        <matplotlib.axes._subplots.AxesSubplot object at 0x000001EAAD442160>,\n",
       "        <matplotlib.axes._subplots.AxesSubplot object at 0x000001EAAD4F9940>],\n",
       "       [<matplotlib.axes._subplots.AxesSubplot object at 0x000001EAAD469C50>,\n",
       "        <matplotlib.axes._subplots.AxesSubplot object at 0x000001EAAD498208>,\n",
       "        <matplotlib.axes._subplots.AxesSubplot object at 0x000001EAAD4BF7B8>,\n",
       "        <matplotlib.axes._subplots.AxesSubplot object at 0x000001EAAD4BF7F0>,\n",
       "        <matplotlib.axes._subplots.AxesSubplot object at 0x000001EAAD5952B0>],\n",
       "       [<matplotlib.axes._subplots.AxesSubplot object at 0x000001EAAD5BB828>,\n",
       "        <matplotlib.axes._subplots.AxesSubplot object at 0x000001EAAD5E5DA0>,\n",
       "        <matplotlib.axes._subplots.AxesSubplot object at 0x000001EAAD613358>,\n",
       "        <matplotlib.axes._subplots.AxesSubplot object at 0x000001EAAD63A8D0>,\n",
       "        <matplotlib.axes._subplots.AxesSubplot object at 0x000001EAAD662E48>],\n",
       "       [<matplotlib.axes._subplots.AxesSubplot object at 0x000001EAAD692400>,\n",
       "        <matplotlib.axes._subplots.AxesSubplot object at 0x000001EAAD9EB978>,\n",
       "        <matplotlib.axes._subplots.AxesSubplot object at 0x000001EAADA14EF0>,\n",
       "        <matplotlib.axes._subplots.AxesSubplot object at 0x000001EAADA444A8>,\n",
       "        <matplotlib.axes._subplots.AxesSubplot object at 0x000001EAADA6BA20>],\n",
       "       [<matplotlib.axes._subplots.AxesSubplot object at 0x000001EAADA93F98>,\n",
       "        <matplotlib.axes._subplots.AxesSubplot object at 0x000001EAADAC4550>,\n",
       "        <matplotlib.axes._subplots.AxesSubplot object at 0x000001EAADAEBAC8>,\n",
       "        <matplotlib.axes._subplots.AxesSubplot object at 0x000001EAADB1D080>,\n",
       "        <matplotlib.axes._subplots.AxesSubplot object at 0x000001EAADB445F8>],\n",
       "       [<matplotlib.axes._subplots.AxesSubplot object at 0x000001EAAEB3CB70>,\n",
       "        <matplotlib.axes._subplots.AxesSubplot object at 0x000001EAAEB6E128>,\n",
       "        <matplotlib.axes._subplots.AxesSubplot object at 0x000001EAAEB986A0>,\n",
       "        <matplotlib.axes._subplots.AxesSubplot object at 0x000001EAAEBBEC18>,\n",
       "        <matplotlib.axes._subplots.AxesSubplot object at 0x000001EAAEBF01D0>]],\n",
       "      dtype=object)"
      ]
     },
     "execution_count": 70,
     "metadata": {},
     "output_type": "execute_result"
    },
    {
     "data": {
      "image/png": "[encoded data removed]",
      "text/plain": [
       "<Figure size 1440x1440 with 30 Axes>"
      ]
     },
     "metadata": {
      "needs_background": "light"
     },
     "output_type": "display_data"
    }
   ],
   "source": [
    "data_x = data.drop(\"diagnosis\",axis=1)\n",
    "data_y = data[\"diagnosis\"]\n",
    "\n",
    "X_log = data_x.apply(lambda x: np.log(x + 0.1))\n",
    "\n",
    "scaler = MinMaxScaler()\n",
    "X_scaled = scaler.fit_transform(X_log)\n",
    "X_log.hist(figsize = (20,20))"
   ]
  },
  {
   "cell_type": "markdown",
   "metadata": {},
   "source": [
    "# 데이터 분할 (train, test 데이터 7:3)\n",
    "- Data set을 train과 test로 나누고 초기화한다"
   ]
  },
  {
   "cell_type": "code",
   "execution_count": 71,
   "metadata": {},
   "outputs": [
    {
     "name": "stdout",
     "output_type": "stream",
     "text": [
      "train data X size: (385, 30)\n",
      "train data Y size: (385,)\n",
      "test data X size: (184, 30)\n",
      "test data Y size: (184,)\n"
     ]
    }
   ],
   "source": [
    "# 데이터 분할(train, test 데이터 7:3으로 - numpy->random)\n",
    "np.random.seed(seed=1234)\n",
    "\n",
    "# 0.7보다 작으면 True -> train 데이터, 아니면 False -> test 데이터\n",
    "msk = np.random.rand(data.shape[0]) < 0.7\n",
    "data_train = data[msk]\n",
    "data_test = data[~msk]\n",
    "\n",
    "# train/test 데이터의 목표변수/설명변수 지정\n",
    "data_train_y = data_train[\"diagnosis\"]\n",
    "data_train_x = data_train.drop(\"diagnosis\", axis=1, inplace=False)\n",
    "data_test_y = data_test[\"diagnosis\"]\n",
    "data_test_x = data_test.drop(\"diagnosis\", axis=1, inplace=False)\n",
    "\n",
    "# train데이터와 test데이터 크기\n",
    "print(\"train data X size: {}\".format(data_train_x.shape))\n",
    "print(\"train data Y size: {}\".format(data_train_y.shape))\n",
    "print(\"test data X size: {}\".format(data_test_x.shape))\n",
    "print(\"test data Y size: {}\".format(data_test_y.shape))\n",
    "\n",
    "# train data: 385, test data: 184"
   ]
  },
  {
   "cell_type": "markdown",
   "metadata": {},
   "source": [
    "# SVC 정확도 비교\n",
    "- Accuracy on training set:1.0\n",
    "- Accuracy on training set:0.65"
   ]
  },
  {
   "cell_type": "code",
   "execution_count": 72,
   "metadata": {},
   "outputs": [
    {
     "name": "stdout",
     "output_type": "stream",
     "text": [
      "Accuracy on training set:1.000\n",
      "Accuracy on training set:0.652174\n"
     ]
    }
   ],
   "source": [
    "rf_uncustomized = SVC(random_state=1234)\n",
    "rf_uncustomized.fit(data_train_x, data_train_y)\n",
    "\n",
    "# 훈련 데이터 정확도\n",
    "print(\"Accuracy on training set:{:.3f}\".format(rf_uncustomized.score(data_train_x,\n",
    "                                                                      data_train_y)))\n",
    "print(\"Accuracy on training set:{:3f}\".format(rf_uncustomized.score(data_test_x,\n",
    "                                                                      data_test_y)))"
   ]
  },
  {
   "cell_type": "markdown",
   "metadata": {},
   "source": [
    "# tree model 옵션 확인"
   ]
  },
  {
   "cell_type": "code",
   "execution_count": 73,
   "metadata": {},
   "outputs": [
    {
     "data": {
      "text/plain": [
       "<bound method BaseEstimator.get_params of SVC(C=1.0, cache_size=200, class_weight=None, coef0=0.0,\n",
       "  decision_function_shape='ovr', degree=3, gamma='auto_deprecated',\n",
       "  kernel='rbf', max_iter=-1, probability=False, random_state=1234,\n",
       "  shrinking=True, tol=0.001, verbose=False)>"
      ]
     },
     "execution_count": 73,
     "metadata": {},
     "output_type": "execute_result"
    }
   ],
   "source": [
    "rf_uncustomized.get_params"
   ]
  },
  {
   "cell_type": "markdown",
   "metadata": {},
   "source": [
    "# GridSearchCV 사용\n",
    "- **CRiterion: 분리 기준 변경(gini, entropy)**\n",
    "- **depth는 1~50까지 잡는다. (tree - 최대 깊이)**\n",
    "- **num_leafs는 Tree의 leaf**\n",
    "- **GridSearchCV.fit 저장**"
   ]
  },
  {
   "cell_type": "code",
   "execution_count": 74,
   "metadata": {},
   "outputs": [
    {
     "data": {
      "text/plain": [
       "SVC(C=1.0, cache_size=200, class_weight=None, coef0=0.0,\n",
       "  decision_function_shape='ovr', degree=3, gamma='auto_deprecated',\n",
       "  kernel='rbf', max_iter=-1, probability=False, random_state=1234,\n",
       "  shrinking=True, tol=0.001, verbose=False)"
      ]
     },
     "execution_count": 74,
     "metadata": {},
     "output_type": "execute_result"
    }
   ],
   "source": [
    "svm_uncustomized = SVC(random_state=1234)\n",
    "svm_uncustomized.fit(data_train_x, data_train_y)"
   ]
  },
  {
   "cell_type": "markdown",
   "metadata": {},
   "source": [
    "# SVM Model 생성\n",
    "- **accuracy와 recall을 점수 측정 지표로 사용**\n",
    "- **두 model 둘다 최적 model과 동일한 모델을 사용한다**"
   ]
  },
  {
   "cell_type": "code",
   "execution_count": 75,
   "metadata": {},
   "outputs": [
    {
     "name": "stdout",
     "output_type": "stream",
     "text": [
      "# Tuning hyper-parameters for accuracy\n",
      "{'C': 10, 'kernel': 'linear'}\n",
      "best_score :  0.956\n",
      "# Tuning hyper-parameters for recall\n",
      "{'C': 10, 'gamma': 1e-05, 'kernel': 'rbf'}\n",
      "best_score :  0.975\n"
     ]
    }
   ],
   "source": [
    "svc=SVC()\n",
    "param_grid = [{'kernel': ['rbf'], 'gamma': [1e-3, 1e-4, 1e-5],'C': [1, 10, 100, 1000]},\n",
    "              {'kernel': ['linear'], 'C': [1, 10, 100, 1000]}]\n",
    "scores = ['accuracy', 'recall']\n",
    "for sc in scores:\n",
    "    grid=GridSearchCV(svc,param_grid,cv=10,scoring=sc,n_jobs=-1)\n",
    "    print(\"# Tuning hyper-parameters for %s\" % sc)\n",
    "    grid.fit(data_train_x,data_train_y)\n",
    "    print(grid.best_params_)\n",
    "    print(\"best_score : \", np.round(grid.best_score_,3))"
   ]
  },
  {
   "cell_type": "markdown",
   "metadata": {},
   "source": [
    "# GridSearch 출력\n",
    "- **GridSearch를 했을 때 가장좋은 test accuracy중 가장 좋은 score를 출력**\n",
    "- **그 때 조합들의 parameter를 출력했다.**"
   ]
  },
  {
   "cell_type": "code",
   "execution_count": 76,
   "metadata": {},
   "outputs": [
    {
     "name": "stdout",
     "output_type": "stream",
     "text": [
      "0.9745765104460755\n",
      "{'C': 10, 'gamma': 1e-05, 'kernel': 'rbf'}\n"
     ]
    }
   ],
   "source": [
    "print(grid.best_score_)\n",
    "print(grid.best_params_)"
   ]
  },
  {
   "cell_type": "code",
   "execution_count": 77,
   "metadata": {},
   "outputs": [
    {
     "data": {
      "text/plain": [
       "SVC(C=10, cache_size=200, class_weight=None, coef0=0.0,\n",
       "  decision_function_shape='ovr', degree=3, gamma=1e-05, kernel='rbf',\n",
       "  max_iter=-1, probability=False, random_state=None, shrinking=True,\n",
       "  tol=0.001, verbose=False)"
      ]
     },
     "execution_count": 77,
     "metadata": {},
     "output_type": "execute_result"
    }
   ],
   "source": [
    "my_model = grid.best_estimator_\n",
    "my_model.fit(data_train_x,data_train_y)"
   ]
  },
  {
   "cell_type": "markdown",
   "metadata": {},
   "source": [
    "# Roc curve 함수\n",
    "- ROC(Receiver Operator Characteristic) 커브는 클래스 판별 기준값의 변화에 따른 위양성률(fall-out)과 재현율(recall)의 변화를 시각화한 것이다.\n",
    "\n",
    "- 모든 이진 분류 모형은 판별 평면으로부터의 거리에 해당하는 판별 함수(discriminant function)를 가지며 판별 함수 값이 음수이면 0인 클래스, 양수이면 1인 클래스에 해당한다고 판별한다. 즉 0 이 클래스 판별 기준값이 된다. ROC 커브는 이 클래스 판별 기준값이 달라진다면 판별 결과가 어떻게 달라지는지는 표현한 것이다.\n",
    "\n",
    "- Scikit-Learn 의 Classification 클래스는 다음처럼 판별 함수 값을 계산하는 decision_function 메서드를 제공한다. 다음 표는 분류 문제를 풀고 decision_function 메서드를 이용하여 모든 표본 데이터에 대해 판별 함수 값을 계산한 다음 계산된 판별 함수 값이 가장 큰 데이터부터 가장 작은 데이터 순서로 정렬한 것이다."
   ]
  },
  {
   "cell_type": "code",
   "execution_count": 78,
   "metadata": {},
   "outputs": [],
   "source": [
    "from sklearn.datasets import make_classification\n",
    "from sklearn.model_selection import cross_val_predict\n",
    "from sklearn.metrics import classification_report\n",
    "from sklearn.metrics import confusion_matrix\n",
    "from sklearn import metrics"
   ]
  },
  {
   "cell_type": "markdown",
   "metadata": {},
   "source": [
    "# svc 와 svc1 비교 \n",
    "- **svc는 임의로 parameter 지정**\n",
    "- **svc1이 GridSearch를 통해 구한 최적의 parameter**"
   ]
  },
  {
   "cell_type": "code",
   "execution_count": 79,
   "metadata": {},
   "outputs": [
    {
     "name": "stdout",
     "output_type": "stream",
     "text": [
      "SVC:\n",
      " confusion matrix\n",
      " [[ 60   4]\n",
      " [ 13 107]] \n",
      "\n",
      "\n",
      "Confusion matrix plot of SVC\n"
     ]
    },
    {
     "data": {
      "image/png": "[encoded data removed]",
      "text/plain": [
       "<Figure size 288x288 with 2 Axes>"
      ]
     },
     "metadata": {
      "needs_background": "light"
     },
     "output_type": "display_data"
    },
    {
     "name": "stdout",
     "output_type": "stream",
     "text": [
      "\n",
      " Classification report \n",
      "               precision    recall  f1-score   support\n",
      "\n",
      "           0       0.82      0.94      0.88        64\n",
      "           1       0.96      0.89      0.93       120\n",
      "\n",
      "   micro avg       0.91      0.91      0.91       184\n",
      "   macro avg       0.89      0.91      0.90       184\n",
      "weighted avg       0.91      0.91      0.91       184\n",
      "\n",
      "\n",
      " Classification report \n",
      "               precision    recall  f1-score   support\n",
      "\n",
      "           0       0.82      0.94      0.88        64\n",
      "           1       0.96      0.89      0.93       120\n",
      "\n",
      "   micro avg       0.91      0.91      0.91       184\n",
      "   macro avg       0.89      0.91      0.90       184\n",
      "weighted avg       0.91      0.91      0.91       184\n",
      "\n"
     ]
    }
   ],
   "source": [
    "# SVC\n",
    "# fitting the SVC model on the training data and predicting for test data\n",
    "svc=SVC(C=100,gamma=0.001,kernel='rbf',probability=True)\n",
    "svc1=SVC(C=10,gamma=0.00001,kernel='rbf',probability=True)\n",
    "svc.fit(data_train_x, data_train_y)\n",
    "svc1.fit(data_train_x, data_train_y)\n",
    "y_pred_svc =svc.predict(data_test_x)\n",
    "y_pred_svc1 =svc.predict(data_test_x)\n",
    "# computing and plotting confusion matrix\n",
    "c_m = confusion_matrix(data_test_y, y_pred_svc)\n",
    "c_m1 = confusion_matrix(data_test_y, y_pred_svc1)\n",
    "print('SVC:\\n confusion matrix\\n', c_m,'\\n\\n')\n",
    "ax=plt.matshow(c_m,cmap=plt.cm.Reds)\n",
    "print('Confusion matrix plot of SVC')\n",
    "plt.colorbar(ax)\n",
    "plt.xlabel('Predicted')\n",
    "plt.ylabel('True')\n",
    "plt.show()\n",
    "# classification report\n",
    "print('\\n Classification report \\n',classification_report(data_test_y, y_pred_svc))\n",
    "print('\\n Classification report \\n',classification_report(data_test_y, y_pred_svc1))"
   ]
  },
  {
   "cell_type": "markdown",
   "metadata": {},
   "source": [
    "# ROC Curve for Cancer classifier\n",
    "- **Threshold 값 0.5는 예측 된 확률을 클래스 예측으로 변환하기 위해 사용한다.**\n",
    "- **sensitivity/recall을 조정하기위해 Threshold값 조정 가능**\n",
    "- **0.2 이후SVC1은 거의 classifier가 1.0에 수렴하는 것을 보인다.**"
   ]
  },
  {
   "cell_type": "code",
   "execution_count": 80,
   "metadata": {},
   "outputs": [
    {
     "name": "stdout",
     "output_type": "stream",
     "text": [
      "model: SVC\n",
      "thresholds: [2.   1.   0.92 0.92 0.9  0.9  0.87 0.86 0.75 0.64 0.44 0.41 0.41 0.41\n",
      " 0.35 0.33 0.28 0.27 0.23 0.17 0.17 0.17 0.17 0.16 0.08 0.08 0.06 0.06\n",
      " 0.02 0.   0.  ]\n",
      "tpr:        [0.   0.01 0.76 0.76 0.8  0.8  0.82 0.82 0.88 0.88 0.91 0.91 0.92 0.92\n",
      " 0.93 0.93 0.94 0.94 0.96 0.96 0.97 0.97 0.97 0.98 0.98 0.98 0.98 0.99\n",
      " 0.99 1.   1.  ]\n",
      "fpr:        [0.   0.   0.   0.02 0.02 0.03 0.03 0.05 0.05 0.06 0.06 0.08 0.08 0.09\n",
      " 0.09 0.11 0.11 0.12 0.12 0.14 0.14 0.28 0.44 0.44 0.89 0.89 0.92 0.92\n",
      " 0.98 0.98 1.  ]\n",
      "model: SVC1\n",
      "thresholds: [1.99 0.99 0.95 0.95 0.88 0.87 0.78 0.77 0.77 0.74 0.73 0.72 0.7  0.69\n",
      " 0.59 0.5  0.39 0.08 0.07 0.03 0.03 0.  ]\n",
      "tpr:        [0.   0.01 0.38 0.38 0.88 0.88 0.93 0.93 0.94 0.94 0.95 0.95 0.96 0.96\n",
      " 0.98 0.98 0.99 0.99 1.   1.   1.   1.  ]\n",
      "fpr:        [0.   0.   0.   0.02 0.02 0.03 0.03 0.05 0.05 0.06 0.06 0.08 0.08 0.09\n",
      " 0.09 0.11 0.11 0.22 0.22 0.38 0.41 1.  ]\n"
     ]
    },
    {
     "data": {
      "text/plain": [
       "<matplotlib.legend.Legend at 0x1eaad539320>"
      ]
     },
     "execution_count": 80,
     "metadata": {},
     "output_type": "execute_result"
    },
    {
     "data": {
      "image/png": "[encoded data removed]",
      "text/plain": [
       "<Figure size 720x576 with 1 Axes>"
      ]
     },
     "metadata": {
      "needs_background": "light"
     },
     "output_type": "display_data"
    }
   ],
   "source": [
    "# false positive rate,fpr= FP/(TN+FP) OR fpr=1-specificty, tpr=sensitivity \n",
    "y_pred_svc_p =svc.predict_proba(data_test_x)[:,1]\n",
    "y_pred_svc_p1 =svc1.predict_proba(data_test_x)[:,1]\n",
    "models=[y_pred_svc_p,y_pred_svc_p1]\n",
    "label=['SVC','SVC1']\n",
    "\n",
    "# plotting ROC curves\n",
    "plt.figure(figsize=(10, 8))\n",
    "m=np.arange(2)\n",
    "for m in m:\n",
    "    fpr, tpr,thresholds= metrics.roc_curve(data_test_y,models[m])\n",
    "    print('model:',label[m])\n",
    "    print('thresholds:',np.round(thresholds,2))\n",
    "    print('tpr:       ',np.round(tpr,2))\n",
    "    print('fpr:       ',np.round(fpr,2))\n",
    "    plt.plot(fpr,tpr,label=label[m])\n",
    "plt.xlim([0.0,1.0])\n",
    "plt.ylim([0.0,1.0])\n",
    "plt.title('ROC curve for Cancer classifer')\n",
    "plt.xlabel('False positive rate (1-specificity)')\n",
    "plt.ylabel('True positive rate (sensitivity)')\n",
    "plt.legend(loc=4,)"
   ]
  },
  {
   "cell_type": "code",
   "execution_count": null,
   "metadata": {},
   "outputs": [],
   "source": []
  },
  {
   "cell_type": "code",
   "execution_count": null,
   "metadata": {},
   "outputs": [],
   "source": []
  }
 ],
 "metadata": {
  "kernelspec": {
   "display_name": "Python 3",
   "language": "python",
   "name": "python3"
  },
  "language_info": {
   "codemirror_mode": {
    "name": "ipython",
    "version": 3
   },
   "file_extension": ".py",
   "mimetype": "text/x-python",
   "name": "python",
   "nbconvert_exporter": "python",
   "pygments_lexer": "ipython3",
   "version": "3.6.7"
  }
 },
 "nbformat": 4,
 "nbformat_minor": 2
}
