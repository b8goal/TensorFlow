{
 "cells": [
  {
   "cell_type": "code",
   "execution_count": null,
   "metadata": {},
   "outputs": [],
   "source": [
    "import warnings\n",
    "import graphviz\n",
    "import re\n",
    "import os\n",
    "import numpy as np\n",
    "import pandas as pd\n",
    "import seaborn as sns\n",
    "import matplotlib\n",
    "import matplotlib.pyplot as plt\n",
    "import scipy.stats as stats\n",
    "import statsmodels.api as sm\n",
    "from statsmodels.formula.api import ols\n",
    "from statsmodels.tools.eval_measures import rmse\n",
    "from statsmodels.stats.outliers_influence import variance_inflation_factor # 다중공선성 패키지 불러오기\n",
    "from sklearn.linear_model import LinearRegression # sklearn 선형회귀 모형 -> 변수 선택법을 위함\n",
    "from sklearn.feature_selection import RFE # 변수 선택법 (후진 제거법)\n",
    "from sklearn.preprocessing import scale # 데이터 scale\n",
    "from sklearn.tree import DecisionTreeClassifier\n",
    "from sklearn.tree import export_graphviz\n",
    "from sklearn.model_selection import train_test_split, cross_val_score, GridSearchCV\n",
    "from sklearn.metrics import make_scorer, accuracy_score, fbeta_score\n",
    "# Import ML Classification algos\n",
    "from sklearn.ensemble import RandomForestClassifier, AdaBoostClassifier\n",
    "from sklearn.svm import SVC\n",
    "from sklearn.linear_model import LogisticRegression\n",
    "from sklearn.preprocessing import MinMaxScaler\n",
    "warnings.filterwarnings('ignore')\n",
    "%matplotlib inline\n",
    "matplotlib.rc('font', family='NanumBarunGothic')\n",
    "plt.rcParams['axes.unicode_minus']=False\n",
    "data = pd.read_csv(\"./유방암.CSV\",engine=\"python\")\n",
    "data.head()"
   ]
  },
  {
   "cell_type": "markdown",
   "metadata": {},
   "source": [
    "# 데이터 결측치 확인"
   ]
  },
  {
   "cell_type": "code",
   "execution_count": null,
   "metadata": {},
   "outputs": [],
   "source": [
    "# 결측치 없다.\n",
    "data.isnull().sum(axis=0)"
   ]
  },
  {
   "cell_type": "markdown",
   "metadata": {},
   "source": [
    "# 데이터 타입 확인"
   ]
  },
  {
   "cell_type": "code",
   "execution_count": null,
   "metadata": {},
   "outputs": [],
   "source": [
    "data.info()"
   ]
  },
  {
   "cell_type": "code",
   "execution_count": null,
   "metadata": {},
   "outputs": [],
   "source": [
    "# Checking if classes are unbalanced or balanced\n",
    "data['diagnosis'].value_counts()"
   ]
  },
  {
   "cell_type": "markdown",
   "metadata": {},
   "source": [
    "# 'diagonosis'는 목표변수이다.\n",
    "# 0은 악성이다. 1은 양성이다.\n",
    "- '1' 은 Malignant으로 악성이다 -> 212/(212 + 357) = 0.37 \n",
    "- '0' 은 Benign으로 양성이다 -> 357/(212+357) = 0.627"
   ]
  },
  {
   "cell_type": "code",
   "execution_count": null,
   "metadata": {},
   "outputs": [],
   "source": [
    "sns.countplot(data.diagnosis)\n",
    "sns.countplot(data['diagnosis'],  palette = \"husl\")"
   ]
  },
  {
   "cell_type": "markdown",
   "metadata": {},
   "source": [
    "# Correlation 비교\n",
    "- 목표변수와 설명변수간의 상관계수 비교\n",
    "- 상관관계를 확인해 크게 연관이 있는지 파악한다\n",
    "- 상관관계는 인과관계를 내포하지 않아 상관관계가 큰 특징들이 목표변수에 무조건 변화를 일으키는 것은 아니다.\n",
    "- **중요한 것은 음의 상관관계를 갖는 특성도 모델을 사용해 실제로 상관관계가 있는지 파악해야한다.**"
   ]
  },
  {
   "cell_type": "code",
   "execution_count": null,
   "metadata": {},
   "outputs": [],
   "source": [
    "# Check 설명변수와 목표변수간의 상관계수  \n",
    "print('Features with the max correlation with diagnosis :')\n",
    "# sort를 사용해 큰 순서로 상관계수 10개 뽑기\n",
    "print(data.corr()['diagnosis'][1:-1].sort_values(ascending=False)[:10])\n",
    "print('\\n')\n",
    "# sort를 사용해 작은 순서로 상관계수 10개 뽑기\n",
    "print('Features with the least correlation with diagnosis :')\n",
    "print(data.corr()['diagnosis'][:-1].sort_values()[:10]) "
   ]
  },
  {
   "cell_type": "markdown",
   "metadata": {},
   "source": []
  },
  {
   "cell_type": "markdown",
   "metadata": {},
   "source": [
    "# No insights\n",
    "- 다른 특징들의 대부분에 차이가 있음을 알 수 있다.\n",
    "- **다양한 특징의 범위가 다르게 보이기 때문에 normalize/scale이 필요하다**"
   ]
  },
  {
   "cell_type": "code",
   "execution_count": null,
   "metadata": {},
   "outputs": [],
   "source": [
    "X_log.hist(figsize = (20,20))"
   ]
  },
  {
   "cell_type": "markdown",
   "metadata": {},
   "source": [
    "# 데이터 스케일\n",
    "- **1. 모든 분포가 왼쪽으로 치우쳐 있기 때문에 로그 변환을 적용해 분포를 보다 정상으로 만들고 왼쪽 꼬리를 중앙으로 sacle한다**\n",
    "\n",
    "- **2. 전체 데이터를 (0,1)사이의 MinMaxScaler과 평균 0 표준 편차 1 만들어 값을 변화시킨다.**"
   ]
  },
  {
   "cell_type": "code",
   "execution_count": null,
   "metadata": {},
   "outputs": [],
   "source": [
    "y = data.loc[:,'diagnosis']\n",
    "X = data.iloc[:,2:-1]\n",
    "\n",
    "X_log = X.apply(lambda x: np.log(x + 0.1))\n",
    "\n",
    "scaler = MinMaxScaler()\n",
    "X_scaled = scaler.fit_transform(X_log)\n",
    "X_log.hist(figsize = (20,20))"
   ]
  },
  {
   "cell_type": "code",
   "execution_count": null,
   "metadata": {},
   "outputs": [],
   "source": [
    "# 데이터 분할(train, test 데이터 7:3으로 - numpy->random)\n",
    "np.random.seed(seed=1234)\n",
    "\n",
    "# 0.7보다 작으면 True -> train 데이터, 아니면 False -> test 데이터\n",
    "msk = np.random.rand(data.shape[0]) < 0.7\n",
    "data_train = data[msk]\n",
    "data_test = data[~msk]\n",
    "\n",
    "# train/test 데이터의 목표변수/설명변수 지정\n",
    "data_train_y = data_train[\"diagnosis\"]\n",
    "data_train_x = data_train.drop(\"diagnosis\", axis=1, inplace=False)\n",
    "data_test_y = data_test[\"diagnosis\"]\n",
    "data_test_x = data_test.drop(\"diagnosis\", axis=1, inplace=False)\n",
    "\n",
    "# train데이터와 test데이터 크기\n",
    "print(\"train data X size: {}\".format(data_train_x.shape))\n",
    "print(\"train data Y size: {}\".format(data_train_y.shape))\n",
    "print(\"test data X size: {}\".format(data_test_x.shape))\n",
    "print(\"test data Y size: {}\".format(data_test_y.shape))\n",
    "# train data: 385, test data: 184"
   ]
  },
  {
   "cell_type": "markdown",
   "metadata": {},
   "source": [
    "# 의사결정나무 (Decision Tree)"
   ]
  },
  {
   "cell_type": "code",
   "execution_count": null,
   "metadata": {},
   "outputs": [],
   "source": [
    "tree_uncustomized = DecisionTreeClassifier(random_state=1234)\n",
    "tree_uncustomized.fit(data_train_x, data_train_y)\n",
    "\n",
    "# 훈련 데이터 정확도\n",
    "print(\"Accuracy on training set:{:.3f}\".format(tree_uncustomized.score(data_train_x,\n",
    "                                                                      data_train_y)))\n",
    "print(\"Accuracy on training set:{:3f}\".format(tree_uncustomized.score(data_test_x,\n",
    "                                                                      data_test_y)))\n"
   ]
  },
  {
   "cell_type": "markdown",
   "metadata": {},
   "source": [
    "# tree model 옵션 확인"
   ]
  },
  {
   "cell_type": "code",
   "execution_count": null,
   "metadata": {},
   "outputs": [],
   "source": [
    "tree_uncustomized.get_params"
   ]
  },
  {
   "cell_type": "markdown",
   "metadata": {},
   "source": [
    "# GridSearchCV 사용\n",
    "- **CRiterion: 분리 기준 변경(gini, entropy)**\n",
    "- **depth는 1~50까지 잡는다. (tree - 최대 깊이)**\n",
    "- **num_leafs는 Tree의 leaf**"
   ]
  },
  {
   "cell_type": "code",
   "execution_count": null,
   "metadata": {},
   "outputs": [],
   "source": [
    "depths = np.arange(1,51)\n",
    "num_leafs = [1,5,10,20,50,100]\n",
    "para_criterion = [\"gini\", \"entropy\"]\n",
    "param_grid = [{'criterion' : para_criterion, 'max_depth': depths, 'min_samples_leaf':num_leafs}]\n",
    "\n",
    "tree_GS = DecisionTreeClassifier(random_state=1234)\n",
    "gs = GridSearchCV(estimator=tree_GS, param_grid=param_grid,cv=10)\n",
    "gs = gs.fit(data_train_x,data_train_y)\n",
    "gs"
   ]
  },
  {
   "cell_type": "markdown",
   "metadata": {},
   "source": [
    "# GridSearch 출력\n",
    "- **GridSearch를 했을 때 가장좋은 test accuracy중 가장 좋은 score를 출력**\n",
    "- **그 때 조합들의 parameter를 출력했다.**"
   ]
  },
  {
   "cell_type": "code",
   "execution_count": null,
   "metadata": {},
   "outputs": [],
   "source": [
    "print(gs.best_score_)\n",
    "print(gs.best_params_)"
   ]
  },
  {
   "cell_type": "code",
   "execution_count": null,
   "metadata": {},
   "outputs": [],
   "source": [
    "my_model = gs.best_estimator_\n",
    "my_model.fit(data_train_x,data_train_y)"
   ]
  },
  {
   "cell_type": "markdown",
   "metadata": {},
   "source": [
    "# GridSearch의 Parameter로 DecisionTree 출력"
   ]
  },
  {
   "cell_type": "code",
   "execution_count": null,
   "metadata": {},
   "outputs": [],
   "source": [
    "tree = DecisionTreeClassifier(criterion=\"gini\",max_depth=5,min_samples_leaf=1, random_state=1234)\n",
    "tree.fit(data_train_x, data_train_y)\n",
    "export_graphviz(tree, out_file=\"tree.dot\", class_names=[\"0\",\"1\"],\n",
    "               feature_names=data_train_x.columns, impurity=False, filled=True)\n",
    "\n",
    "os.environ[\"PATH\"] += os.pathsep + \"C:/Program Files (x86)/Graphviz2.38/bin\"\n",
    "\n",
    "with open(\"tree.dot\") as f:\n",
    "    dot_graph = f.read()\n",
    "display(graphviz.Source(dot_graph))"
   ]
  },
  {
   "cell_type": "code",
   "execution_count": null,
   "metadata": {},
   "outputs": [],
   "source": [
    "# 최종 모델\n",
    "rf_model = DecisionTreeClassifier(criterion=\"gini\",max_depth=5,min_samples_leaf=1,random_state=1234)\n",
    "rf_model.fit(data_train_x,data_train_y)\n",
    "# rf_model.featrue_importance_로 설명변수 중요도 확인\n",
    "ds_feature_importance = pd.DataFrame()\n",
    "ds_feature_importance[\"feature\"] = data_train_x.columns\n",
    "ds_feature_importance[\"importance\"] = rf_model.feature_importances_\n",
    "ds_feature_importance.sort_values(by=\"importance\",ascending=False)\n"
   ]
  },
  {
   "cell_type": "code",
   "execution_count": null,
   "metadata": {},
   "outputs": [],
   "source": [
    "def plot_feature_importances(model):\n",
    "    n_feature = data_train_x.shape[1]\n",
    "    plt.barh(range(n_feature),model.feature_importances_,align=\"center\")\n",
    "    plt.yticks(np.arange(n_feature), data_train_x.columns)\n",
    "    plt.xlabel(\"설명변수 중요도\")\n",
    "    plt.ylabel(\"설명변수\")\n",
    "    plt.ylim(-1, n_feature)\n",
    "# 설명변수 중요도 그리는 함수 실행\n",
    "plot_feature_importances(rf_model)\n",
    "    "
   ]
  },
  {
   "cell_type": "code",
   "execution_count": null,
   "metadata": {},
   "outputs": [],
   "source": []
  }
 ],
 "metadata": {
  "kernelspec": {
   "display_name": "Python 3",
   "language": "python",
   "name": "python3"
  },
  "language_info": {
   "codemirror_mode": {
    "name": "ipython",
    "version": 3
   },
   "file_extension": ".py",
   "mimetype": "text/x-python",
   "name": "python",
   "nbconvert_exporter": "python",
   "pygments_lexer": "ipython3",
   "version": "3.6.7"
  }
 },
 "nbformat": 4,
 "nbformat_minor": 2
}
