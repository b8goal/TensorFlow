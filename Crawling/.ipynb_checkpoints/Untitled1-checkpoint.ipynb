{
 "cells": [
  {
   "cell_type": "code",
   "execution_count": 64,
   "metadata": {},
   "outputs": [],
   "source": [
    "# parser.py\n",
    "import requests\n",
    "import os\n",
    "import urllib.request\n",
    "\n",
    "path_dir = 'C:/Users/admin1/Desktop/Github/TensorFlow/Crawling/Recruting'\n",
    "file_name = '대학교별 취업공고.txt'\n",
    "url_list = []\n",
    "\n",
    "def add_url_list(path_dir,file_name):\n",
    "    list_ = []\n",
    "    f = open(path_dir+'/'+file_name,'r',encoding='utf-8')\n",
    "    for f_name in f.readlines():\n",
    "        list_.append(f_name)\n",
    "    return list_\n"
   ]
  },
  {
   "cell_type": "code",
   "execution_count": 65,
   "metadata": {},
   "outputs": [
    {
     "name": "stdout",
     "output_type": "stream",
     "text": [
      "['http://icc.skku.ac.kr/icc_new/board_list_square?boardName=board_recruit\\n', 'http://electronic.hanyang.ac.kr/work/list_hi.php\\n', 'http://ee.yonsei.ac.kr/ee/community/career_notice.do?mode=list&&articleLimit=10&article.offset=0\\n', 'http://eng.korea.ac.kr/eng/community/questions.do?mode=list&&articleLimit=10&article.offset=0\\n', 'http://cs.korea.ac.kr/cs/board/course.do\\n', 'http://info.korea.ac.kr/info/board/news.do\\n', 'http://ee.snu.ac.kr/community/notice/jobs\\n', 'http://career.snu.ac.kr/en/jobs/employer_posting.jsp\\n', 'https://cse.postech.ac.kr/community/careers/\\n', 'https://ee.postech.ac.kr/news/careers/']\n"
     ]
    }
   ],
   "source": [
    "url_list = add_url_list(path_dir,file_name)\n",
    "print(url_list)"
   ]
  },
  {
   "cell_type": "code",
   "execution_count": 73,
   "metadata": {},
   "outputs": [
    {
     "name": "stdout",
     "output_type": "stream",
     "text": [
      "Date: Mon, 25 Feb 2019 09:22:05 GMT\n",
      "Set-Cookie: JSESSIONID=3C4711574BA72D208AC658FD4C198562; Path=/icc_new\n",
      "Connection: close\n",
      "Transfer-Encoding: chunked\n",
      "Content-Type: text/html;charset=UTF-8\n",
      "Content-Language: ko\n",
      "\n",
      "\n",
      "Date: Mon, 25 Feb 2019 09:12:56 GMT\n",
      "Server: Apache\n",
      "Set-Cookie: PHPSESSID=046fa2d8a3c53c0243cd9314ab007ad4; path=/\n",
      "Expires: Thu, 19 Nov 1981 08:52:00 GMT\n",
      "Cache-Control: no-store, no-cache, must-revalidate, post-check=0, pre-check=0\n",
      "Pragma: no-cache\n",
      "Connection: close\n",
      "Transfer-Encoding: chunked\n",
      "Content-Type: text/html\n",
      "\n",
      "\n",
      "Cache-Control: no-cache\n",
      "Content-Language: ko\n",
      "Content-Type: text/html;charset=UTF-8\n",
      "Date: Mon, 25 Feb 2019 09:22:05 GMT\n",
      "Expires: Thu, 01 Jan 1970 00:00:00 GMT\n",
      "Pragma: no-cache\n",
      "Server: Apache/2.2.34 (Amazon)\n",
      "Set-Cookie: JSESSIONID=FE18D0E96745A6B81A6710609FCE788D; Path=/; HttpOnly\n",
      "Set-Cookie: ee_visited=Y; Expires=Mon, 25-Feb-2019 15:01:17 GMT; Path=/\n",
      "Set-Cookie: ee_visited=20190225182205984001; Expires=Mon, 25-Feb-2019 15:01:17 GMT; Path=/\n",
      "Set-Cookie: org.springframework.web.servlet.i18n.CookieLocaleResolver.LOCALE=ko; Path=/\n",
      "transfer-encoding: chunked\n",
      "Connection: Close\n",
      "\n",
      "\n",
      "Date: Mon, 25 Feb 2019 09:22:06 GMT\n",
      "Server: KoreaUV\n",
      "Cache-Control: no-cache\n",
      "Pragma: no-cache\n",
      "Expires: Thu, 01 Jan 1970 00:00:00 GMT\n",
      "Set-Cookie: JSESSIONID=zHkj9h775y1OcJ-rtUrFfmbsatTa9ln4jxiYdQy8R44PK7N_HGdk!-1746712800; path=/; HttpOnly\n",
      "Set-Cookie: eng_visited=Y; expires=Mon, 25-Feb-2019 15:01:18 GMT; path=/\n",
      "Set-Cookie: eng_visited=20190225182206203067; expires=Mon, 25-Feb-2019 15:01:18 GMT; path=/\n",
      "Set-Cookie: org.springframework.web.servlet.i18n.CookieLocaleResolver.LOCALE=ko; path=/\n",
      "Content-Language: ko\n",
      "X-Powered-By: Servlet/2.5 JSP/2.1\n",
      "Connection: close\n",
      "Transfer-Encoding: chunked\n",
      "Content-Type: text/html; charset=UTF-8\n",
      "\n",
      "\n",
      "Date: Mon, 25 Feb 2019 09:22:06 GMT\n",
      "Server: KoreaUV\n",
      "Cache-Control: no-cache\n",
      "Pragma: no-cache\n",
      "Expires: Thu, 01 Jan 1970 00:00:00 GMT\n",
      "Set-Cookie: JSESSIONID=vF4j9h_THXONIPlO-5HPIdxaNl7XsvPuhRtbNoy39pR8Tn0R5qtL!-1746712800; path=/; HttpOnly\n",
      "Set-Cookie: cs_visited=Y; expires=Mon, 25-Feb-2019 15:01:18 GMT; path=/\n",
      "Set-Cookie: cs_visited=20190225182206419014; expires=Mon, 25-Feb-2019 15:01:18 GMT; path=/\n",
      "Set-Cookie: org.springframework.web.servlet.i18n.CookieLocaleResolver.LOCALE=ko; path=/\n",
      "Content-Language: ko\n",
      "X-Powered-By: Servlet/2.5 JSP/2.1\n",
      "Connection: close\n",
      "Transfer-Encoding: chunked\n",
      "Content-Type: text/html; charset=UTF-8\n",
      "\n",
      "\n",
      "Date: Mon, 25 Feb 2019 09:22:06 GMT\n",
      "Server: KoreaUV\n",
      "Cache-Control: no-cache\n",
      "Pragma: no-cache\n",
      "Expires: Thu, 01 Jan 1970 00:00:00 GMT\n",
      "Set-Cookie: JSESSIONID=hOgj9iAvbSNnzxIKGvGMREYKcBVwVqqJyF1u344wJOLeb1MT9deK!-1746712800; path=/; HttpOnly\n",
      "Set-Cookie: info_visited=Y; expires=Mon, 25-Feb-2019 15:01:18 GMT; path=/\n",
      "Set-Cookie: info_visited=20190225182206511030; expires=Mon, 25-Feb-2019 15:01:18 GMT; path=/\n",
      "Set-Cookie: org.springframework.web.servlet.i18n.CookieLocaleResolver.LOCALE=ko; path=/\n",
      "Content-Language: ko\n",
      "X-Powered-By: Servlet/2.5 JSP/2.1\n",
      "Connection: close\n",
      "Transfer-Encoding: chunked\n",
      "Content-Type: text/html; charset=UTF-8\n",
      "\n",
      "\n",
      "Date: Mon, 25 Feb 2019 09:22:06 GMT\n",
      "Set-Cookie: PHPSESSID=vf112la3e0v63fuah90c2r8tf2; path=/; domain=.snu.ac.kr\n",
      "Expires: Thu, 19 Nov 1981 08:52:00 GMT\n",
      "Cache-Control: no-store, no-cache, must-revalidate, post-check=0, pre-check=0\n",
      "Pragma: no-cache\n",
      "Connection: close\n",
      "Transfer-Encoding: chunked\n",
      "Content-Type: text/html\n",
      "\n",
      "\n",
      "Date: Mon, 25 Feb 2019 09:22:06 GMT\n",
      "Set-Cookie: JSESSIONID=C1E8659ECEA879436C9A146ABF29D330; Path=/; HttpOnly\n",
      "Set-Cookie: InitechEamUID=\"\"; Domain=.snu.ac.kr; Expires=Thu, 01-Jan-1970 00:00:10 GMT; Path=/\n",
      "Set-Cookie: InitechEamUTOA=\"\"; Domain=.snu.ac.kr; Expires=Thu, 01-Jan-1970 00:00:10 GMT; Path=/\n",
      "Set-Cookie: InitechEamUIP=\"\"; Domain=.snu.ac.kr; Expires=Thu, 01-Jan-1970 00:00:10 GMT; Path=/\n",
      "Set-Cookie: InitechEamULAT=\"\"; Domain=.snu.ac.kr; Expires=Thu, 01-Jan-1970 00:00:10 GMT; Path=/\n",
      "Set-Cookie: InitechEamUHMAC=\"\"; Domain=.snu.ac.kr; Expires=Thu, 01-Jan-1970 00:00:10 GMT; Path=/\n",
      "P3P: CP=\"ALL CURa ADMa DEVa TAIa OUR BUS IND PHY ONL UNI PUR FIN COM NAV INT DEM CNT STA POL HEA PRE LOC OTC\"\n",
      "Set-Cookie: InitechEamRTOA=1; HTTPOnly; domain=.snu.ac.kr;path=/\n",
      "Connection: close\n",
      "Transfer-Encoding: chunked\n",
      "Content-Type: text/html;charset=UTF-8\n",
      "\n",
      "\n",
      "Date: Mon, 25 Feb 2019 09:22:07 GMT\n",
      "Server: Apache/2.2.15 (CentOS)\n",
      "X-Powered-By: PHP/5.3.3\n",
      "Link: <https://cse.postech.ac.kr/wp-json/>; rel=\"https://api.w.org/\"\n",
      "Link: <https://cse.postech.ac.kr/?p=115>; rel=shortlink\n",
      "Connection: close\n",
      "Transfer-Encoding: chunked\n",
      "Content-Type: text/html; charset=UTF-8\n",
      "\n",
      "\n",
      "Date: Mon, 25 Feb 2019 09:22:08 GMT\n",
      "Server: Apache/2.2.15 (CentOS)\n",
      "X-Powered-By: PHP/5.3.3\n",
      "Link: <https://ee.postech.ac.kr/wp-json/>; rel=\"https://api.w.org/\"\n",
      "Link: <https://ee.postech.ac.kr/?p=4693>; rel=shortlink\n",
      "Connection: close\n",
      "Transfer-Encoding: chunked\n",
      "Content-Type: text/html; charset=UTF-8\n",
      "\n",
      "\n"
     ]
    }
   ],
   "source": [
    "for i in range(len(url_list)):\n",
    "    fp = urllib.request.urlopen(url_list[i])\n",
    "    print(fp.info())"
   ]
  },
  {
   "cell_type": "code",
   "execution_count": 69,
   "metadata": {},
   "outputs": [
    {
     "name": "stdout",
     "output_type": "stream",
     "text": [
      "<class 'str'>\n"
     ]
    }
   ],
   "source": []
  },
  {
   "cell_type": "code",
   "execution_count": null,
   "metadata": {},
   "outputs": [],
   "source": []
  }
 ],
 "metadata": {
  "kernelspec": {
   "display_name": "Python 3",
   "language": "python",
   "name": "python3"
  },
  "language_info": {
   "codemirror_mode": {
    "name": "ipython",
    "version": 3
   },
   "file_extension": ".py",
   "mimetype": "text/x-python",
   "name": "python",
   "nbconvert_exporter": "python",
   "pygments_lexer": "ipython3",
   "version": "3.6.7"
  }
 },
 "nbformat": 4,
 "nbformat_minor": 2
}
