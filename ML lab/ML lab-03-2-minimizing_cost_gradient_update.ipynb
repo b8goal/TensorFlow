{
 "cells": [
  {
   "cell_type": "code",
   "execution_count": 4,
   "metadata": {},
   "outputs": [
    {
     "name": "stdout",
     "output_type": "stream",
     "text": [
      "0 0.88644236 [1.2324452]\n",
      "1 0.25214368 [1.1239707]\n",
      "2 0.071720816 [1.0661178]\n",
      "3 0.020400608 [1.0352628]\n",
      "4 0.005802845 [1.0188068]\n",
      "5 0.0016505782 [1.0100303]\n",
      "6 0.0004694961 [1.0053495]\n",
      "7 0.00013354626 [1.002853]\n",
      "8 3.798648e-05 [1.0015216]\n",
      "9 1.0804398e-05 [1.0008115]\n",
      "10 3.072636e-06 [1.0004327]\n",
      "11 8.7385666e-07 [1.0002308]\n",
      "12 2.4856368e-07 [1.0001231]\n",
      "13 7.079585e-08 [1.0000657]\n",
      "14 2.011835e-08 [1.000035]\n",
      "15 5.732204e-09 [1.0000187]\n",
      "16 1.6391226e-09 [1.00001]\n",
      "17 4.67935e-10 [1.0000054]\n",
      "18 1.3557629e-10 [1.0000029]\n",
      "19 3.8198777e-11 [1.0000015]\n",
      "20 1.1581847e-11 [1.0000008]\n"
     ]
    }
   ],
   "source": [
    "# Lab 3 Minimizing Cost\n",
    "import tensorflow as tf\n",
    "\n",
    "tf.set_random_seed(777) # for reproducibility\n",
    "\n",
    "x_data = [1,2,3]\n",
    "y_data = [1,2,3]\n",
    "\n",
    "# Try to find values for W and b to compute y_data = W*x_data\n",
    "# We know that W should be 1\n",
    "# But let's use Tensorflow to figure it out\n",
    "\n",
    "W = tf.Variable(tf.random_normal([1]), name='weight')\n",
    "\n",
    "X = tf.placeholder(tf.float32)\n",
    "Y = tf.placeholder(tf.float32)\n",
    "\n",
    "# Our hypothesis for linear model X *W\n",
    "hypothesis = X * W\n",
    "\n",
    "# cost / loss function\n",
    "cost = tf.reduce_mean(tf.square(hypothesis - Y))\n",
    "\n",
    "# Minimize: Gradient descent using derivative: W -= learning_rate * derivative\n",
    "learning_rate = 0.1\n",
    "gradient = tf.reduce_mean((W*X - Y)*X)\n",
    "descent = W - learning_rate * gradient\n",
    "update = W.assign(descent)\n",
    "\n",
    "# Launch the graph in a session.\n",
    "with tf.Session() as sess:\n",
    "    # Initalizes global variables in the graph\n",
    "    sess.run(tf.global_variables_initializer())\n",
    "    \n",
    "    for step in range(21):\n",
    "        _, cost_val, W_val = sess.run([update,cost,W],feed_dict={X: x_data, Y:y_data})\n",
    "        print(step, cost_val, W_val)"
   ]
  },
  {
   "cell_type": "code",
   "execution_count": null,
   "metadata": {},
   "outputs": [],
   "source": []
  }
 ],
 "metadata": {
  "kernelspec": {
   "display_name": "Python 3",
   "language": "python",
   "name": "python3"
  },
  "language_info": {
   "codemirror_mode": {
    "name": "ipython",
    "version": 3
   },
   "file_extension": ".py",
   "mimetype": "text/x-python",
   "name": "python",
   "nbconvert_exporter": "python",
   "pygments_lexer": "ipython3",
   "version": "3.6.7"
  }
 },
 "nbformat": 4,
 "nbformat_minor": 2
}
