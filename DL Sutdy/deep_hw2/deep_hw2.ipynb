{
 "cells": [
  {
   "cell_type": "markdown",
   "metadata": {},
   "source": [
    "# Deep Learning study toy Project 1\n",
    "\n"
   ]
  },
  {
   "cell_type": "markdown",
   "metadata": {},
   "source": [
    "백준 문제중에 Linear Algebra and Group 이라는 문제가 있다.\n",
    "\n",
    "아주 단순한 문제로 \"선형대수와 군\"(이인석, 개정판)의 사진에 있는 모든 그림의 숫자를 합하면 되는 문제다.\n",
    "\n",
    "자세한 문제는 [이곳을 참고하자](https://www.acmicpc.net/problem/15636)\n",
    "\n",
    "\n",
    "\n",
    "> 문제를 확인했다면 [\"선형대수와 군\" 책의 사진을 보자](http://image.aladin.co.kr/product/5972/77/letslook/8952117441_f.jpg)\n",
    "\n",
    "이 문제를 풀기 위해 고민하던 우리는 딥러닝 스터디에서 MNIST를 배운 기억을 떠올렸다. \n",
    "\n",
    "MNIST를 활용해서 문제를 풀어보자\n",
    "\n"
   ]
  },
  {
   "cell_type": "markdown",
   "metadata": {},
   "source": [
    "> 참고로 지금부터 코드는 파이썬 3.6를 권장한다.<br>\n",
    "> 만일 주피터 노트북의 파이썬이 3.6버전이 아니라면<br>\n",
    "> conda install python=3.6 명령어를 이용하여 버전을 변경시키자"
   ]
  },
  {
   "cell_type": "markdown",
   "metadata": {},
   "source": [
    "# Problem 1\n",
    "\n",
    "### 이미지 가져오기\n",
    "\n",
    "우리는 선형대수와 군 책을 가지고 있지않다. 따라서 이미지를 가져와야 하는데 마우스 오른쪽 클릭하여 이미지를 가져오기엔 체면이 살지 않는다. <br>\n",
    "웹 스크래핑 실습때 배운 이미지 추출을 복습할겸 한번 가볍게 써보자\n",
    "\n",
    "참고로 이미지를 가져올 주소는 http://image.aladin.co.kr/product/5972/77/letslook/8952117441_f.jpg 를 이용하면 된다.\n",
    "\n",
    "이미지는 images 폴더 내부에 linear.jpg 라는 파일명으로 만들자.\n",
    "\n",
    "##### 참고: urllib 함수는 파이썬 내장함수이다. 별로도 설치할 필요 없다."
   ]
  },
  {
   "cell_type": "code",
   "execution_count": 1,
   "metadata": {},
   "outputs": [
    {
     "data": {
      "text/plain": [
       "('./images/linear.png', <http.client.HTTPMessage at 0x1e2749848d0>)"
      ]
     },
     "execution_count": 1,
     "metadata": {},
     "output_type": "execute_result"
    }
   ],
   "source": [
    "from urllib.request import urlretrieve\n",
    "import os\n",
    "\n",
    "# 만일 images 폴더가 존재하지 않으면 해당 폴더를 만든다.\n",
    "if not os.path.isdir('images'):\n",
    "    os.mkdir('images')\n",
    "\n",
    "# insert your code\n",
    "\n",
    "# url으로 이미지 다운로드\n",
    "url = \"http://image.aladin.co.kr/product/5972/77/letslook/8952117441_f.jpg\"\n",
    "img_name = \"linear\"\n",
    "urlretrieve(url, \"./images/\"+img_name+'.png')"
   ]
  },
  {
   "cell_type": "markdown",
   "metadata": {},
   "source": [
    "### 이미지 실행시키기\n",
    "\n",
    "이미지가 제대로 가져와졌는지 실행시켜보자.<br>\n",
    "이미지를 실행시키기 위해 PIL이라는 모듈을 사용하겠다. PIL은 이미지를 가공하기 좋은 모듈이다. \n",
    "\n",
    "##### 만일 아래 코드가 실행이 되지 않는다면 다음 명령어로 모듈을 설치하기 바란다.<br>\n",
    "> conda install PIL"
   ]
  },
  {
   "cell_type": "code",
   "execution_count": 2,
   "metadata": {},
   "outputs": [],
   "source": [
    "from PIL import Image\n",
    "import PIL.ImageOps\n",
    "\n",
    "# pil을 사용해 image open\n",
    "img = Image.open(\"./images/linear.png\")\n",
    "img.show()"
   ]
  },
  {
   "cell_type": "markdown",
   "metadata": {},
   "source": [
    "이미지가 정상적으로 나왔다면 성공적으로 가져온 것이다. 이제 모든 준비가 끝났다."
   ]
  },
  {
   "cell_type": "markdown",
   "metadata": {},
   "source": [
    "# Problem 2\n",
    "\n",
    "### Image Cropping\n",
    "\n",
    "#### EXAMPLE\n",
    "이미지를 가져왔다면 이제 알맞은 크기로 잘라야 한다.<br>\n",
    "우선 간단한 예제로 이미지를 잘라보자."
   ]
  },
  {
   "cell_type": "code",
   "execution_count": 4,
   "metadata": {},
   "outputs": [],
   "source": [
    "# 우선 이미지를 가져온다.\n",
    "img = Image.open(\"./images/linear.png\") \n",
    "\n",
    "# 자를 이미지의 좌상단과 우하단의 (x1, y2, x2, y2) 좌표로 bounding box를 만든다.\n",
    "# 위치를 모를 경우 그림판이나 다른 툴을 이용하면 좌표를 알 수 있다.\n",
    "# 아래 좌표는 예시이다.\n",
    "area = (30, 34, 871, 745)\n",
    "\n",
    "# 선택한 좌표를 가지고 crop 함수를 이용해 자른다.\n",
    "cropped_img = img.crop(area)\n",
    "\n",
    "#자른 이미지를 확인해본다.\n",
    "cropped_img.show()\n",
    "\n",
    "#자른 이미지를 저장한다.\n",
    "path = './images/'\n",
    "name = 'test'\n",
    "cropped_img.save(path + name + '.png')"
   ]
  },
  {
   "cell_type": "markdown",
   "metadata": {},
   "source": [
    "<br><br><br>\n",
    "\n",
    "\n",
    "\n",
    "실행해보면 우리가 계산할 숫자들의 이미지가 나올 것 이다.<br>\n",
    "하지만 우리가 원하는 사진은 숫자 하나 하나 잘라야 한다.\n",
    "\n",
    "다음 사진을 보자\n",
    "<img src=\"./pic/01.PNG\" width=80%/>\n",
    "\n",
    "### 우선 위 사진 처럼 사진을 하나씩 잘라보자. 파일의 형식은 0001.png 과 같은 형식이다.\n",
    "\n",
    "#### 참고로 사진은 총  1450개 이다. 즉, 0001.png 부터 1450.png가 나와야 한다."
   ]
  },
  {
   "cell_type": "code",
   "execution_count": 5,
   "metadata": {},
   "outputs": [],
   "source": [
    "# insert your code\n",
    "def get_cropped_image():\n",
    "    img = Image.open(\"./images/linear.png\") \n",
    "    count = 1\n",
    "    # image cropping\n",
    "    s_x, s_y, dx, dy = 30, 34, 16.84, 24.55\n",
    "    for i in range(0,29):\n",
    "        for j in range(0,50):\n",
    "            cropped_img = img.crop((s_x+2, s_y+2, s_x+dx-2, s_y+dy-2))\n",
    "            cropped_img.save(path + str(count).zfill(4) + '.png')\n",
    "            s_x += dx\n",
    "            count += 1\n",
    "        s_x = 30\n",
    "        s_y += dy\n",
    "get_cropped_image()\n"
   ]
  },
  {
   "cell_type": "markdown",
   "metadata": {},
   "source": [
    "실행 후 사진이 잘 나왔는지 확인해 보자."
   ]
  },
  {
   "cell_type": "markdown",
   "metadata": {},
   "source": [
    "# Problem 3\n",
    "\n",
    "### image preprocessing\n",
    "\n",
    "우리가 자른 이미지는 MNIST에 의해 훈련된 모델로 분류가 잘 될까?<br>\n",
    "거의 분류가 되지 않을 것이다. 아니 그 전에 실행이 되지 않을것이다.\n",
    "\n",
    "우리가 자른 이미지의 사이즈는(자르기에 따라 약간의 오차가 있겠지만)\n",
    " 대략 (17, 24, 3)의 픽셀로 이루어져 있다. 각각 width, height, depth의 값이다.\n",
    " \n",
    "하지만 MNIST의 데이터는 (28, 28, 1)로 사이즈가 서로 다르다.\n",
    "\n",
    "또한 이미지 주변의 테두리도 잘라내고 싶다.\n",
    "\n",
    "다음 순서로 이미지를 가공해보자.\n",
    "\n",
    "> 1. 위와 마찬가지로 이미지를 일단 자른다.\n",
    "2. 테두리의 검은 선을 자르기 위해 자른 이미지를 다시 한번 약간 자른다.\n",
    "3. Image 모듈의 함수를 이용해서 28X28의 이미지로 scaling 시킨다.\n",
    "4. depth를 1로 만들기 위해 사진을 흑백으로 변경시킨다. 이 때 convert 함수를 이용한다.\n",
    "5. MNIST는 배경이 검은색 글씨가 흰색인 사진이다. 우리의 사진도 마찬가지로 만들어주기 위해 사진의 색을 반전시키자.\n",
    "\n",
    "[모듈에 관한 자세한 설명은 이곳을 참고하자](https://pillow.readthedocs.io/en/3.1.x/reference/Image.html)\n",
    "\n",
    "\n",
    "\n",
    "실행 결과는 다음과 같다<br><br>\n",
    "<img src=\"./pic/02.PNG\" width=80%/>\n"
   ]
  },
  {
   "cell_type": "code",
   "execution_count": 6,
   "metadata": {},
   "outputs": [],
   "source": [
    "# insert your code\n",
    "# 코드가 완성됐다면 함수로 만들어서 계속 사용 할 수 있게 하자\n",
    "# 함수의 이름은 image_prep() 로 하 도록 하자.\n",
    "def image_prep():\n",
    "    count = 1\n",
    "    basewidth,hsize = 28, 28\n",
    "    s_x, s_y, dx, dy = 30, 34, 16.84, 24.55\n",
    "    for i in range(0,29):\n",
    "        for j in range(0,50):\n",
    "            cropped_img = img.crop((s_x+2, s_y+2, s_x+dx-2, s_y+dy-2))\n",
    "            cropped_img = cropped_img.resize((basewidth,hsize), Image.ANTIALIAS)\n",
    "            cropped_img = cropped_img.convert('L')\n",
    "            cropped_img = cropped_img.point(lambda x: 255 if x<100 else 0, '1')\n",
    "            cropped_img.save(path + str(count).zfill(4) + '.png')\n",
    "            s_x += dx\n",
    "            count += 1\n",
    "        s_x = 30\n",
    "        s_y += dy\n",
    "image_prep()\n",
    "\n"
   ]
  },
  {
   "cell_type": "markdown",
   "metadata": {},
   "source": [
    "# Problem 4\n",
    "\n",
    "### softmax로 MNIST 학습시키기\n",
    "\n",
    "lab 7에서 혹은 이후 lab에서 실습한 예제를 이용해서 MNIST를 학습시키자."
   ]
  },
  {
   "cell_type": "code",
   "execution_count": 33,
   "metadata": {},
   "outputs": [
    {
     "name": "stdout",
     "output_type": "stream",
     "text": [
      "Extracting MNIST_data/train-images-idx3-ubyte.gz\n",
      "Extracting MNIST_data/train-labels-idx1-ubyte.gz\n",
      "Extracting MNIST_data/t10k-images-idx3-ubyte.gz\n",
      "Extracting MNIST_data/t10k-labels-idx1-ubyte.gz\n",
      "Epoch:  0001 cost =   3.250581\n",
      "Epoch:  0002 cost =   1.114488\n",
      "Epoch:  0003 cost =   0.879867\n",
      "Epoch:  0004 cost =   0.766728\n",
      "Epoch:  0005 cost =   0.695723\n",
      "Epoch:  0006 cost =   0.646931\n",
      "Epoch:  0007 cost =   0.609382\n",
      "Epoch:  0008 cost =   0.580029\n",
      "Epoch:  0009 cost =   0.555805\n",
      "Epoch:  0010 cost =   0.535441\n",
      "Epoch:  0011 cost =   0.517672\n",
      "Epoch:  0012 cost =   0.502294\n",
      "Epoch:  0013 cost =   0.489347\n",
      "Epoch:  0014 cost =   0.476816\n",
      "Epoch:  0015 cost =   0.466283\n",
      "Epoch:  0016 cost =   0.456361\n",
      "Epoch:  0017 cost =   0.447424\n",
      "Epoch:  0018 cost =   0.439284\n",
      "Epoch:  0019 cost =   0.431450\n",
      "Epoch:  0020 cost =   0.424835\n",
      "Epoch:  0021 cost =   0.417885\n",
      "Epoch:  0022 cost =   0.411885\n",
      "Epoch:  0023 cost =   0.406362\n",
      "Epoch:  0024 cost =   0.401231\n",
      "Epoch:  0025 cost =   0.396031\n",
      "Epoch:  0026 cost =   0.391290\n",
      "Epoch:  0027 cost =   0.386941\n",
      "Epoch:  0028 cost =   0.382919\n",
      "Epoch:  0029 cost =   0.378812\n",
      "Epoch:  0030 cost =   0.375197\n",
      "Epoch:  0031 cost =   0.371597\n",
      "Epoch:  0032 cost =   0.368112\n",
      "Epoch:  0033 cost =   0.364882\n",
      "Epoch:  0034 cost =   0.361911\n",
      "Epoch:  0035 cost =   0.359025\n",
      "Epoch:  0036 cost =   0.355884\n",
      "Epoch:  0037 cost =   0.353432\n",
      "Epoch:  0038 cost =   0.350856\n",
      "Epoch:  0039 cost =   0.348461\n",
      "Epoch:  0040 cost =   0.346289\n",
      "Epoch:  0041 cost =   0.343608\n",
      "Epoch:  0042 cost =   0.341672\n",
      "Epoch:  0043 cost =   0.339482\n",
      "Epoch:  0044 cost =   0.337456\n",
      "Epoch:  0045 cost =   0.335638\n",
      "Epoch:  0046 cost =   0.333834\n",
      "Epoch:  0047 cost =   0.331826\n",
      "Epoch:  0048 cost =   0.330363\n",
      "Epoch:  0049 cost =   0.328272\n",
      "Epoch:  0050 cost =   0.326804\n",
      "Epoch:  0051 cost =   0.325083\n",
      "Epoch:  0052 cost =   0.323384\n",
      "Epoch:  0053 cost =   0.321947\n",
      "Epoch:  0054 cost =   0.320685\n",
      "Epoch:  0055 cost =   0.318736\n",
      "Epoch:  0056 cost =   0.318022\n",
      "Epoch:  0057 cost =   0.316458\n",
      "Epoch:  0058 cost =   0.314999\n",
      "Epoch:  0059 cost =   0.313712\n",
      "Epoch:  0060 cost =   0.312567\n",
      "Epoch:  0061 cost =   0.311292\n",
      "Epoch:  0062 cost =   0.310060\n",
      "Epoch:  0063 cost =   0.309255\n",
      "Epoch:  0064 cost =   0.308063\n",
      "Epoch:  0065 cost =   0.306764\n",
      "Epoch:  0066 cost =   0.305765\n",
      "Epoch:  0067 cost =   0.304639\n",
      "Epoch:  0068 cost =   0.303736\n",
      "Epoch:  0069 cost =   0.302929\n",
      "Epoch:  0070 cost =   0.301776\n",
      "Epoch:  0071 cost =   0.300888\n",
      "Epoch:  0072 cost =   0.300140\n",
      "Epoch:  0073 cost =   0.299031\n",
      "Epoch:  0074 cost =   0.298128\n",
      "Epoch:  0075 cost =   0.297240\n",
      "Epoch:  0076 cost =   0.296406\n",
      "Epoch:  0077 cost =   0.295825\n",
      "Epoch:  0078 cost =   0.294933\n",
      "Epoch:  0079 cost =   0.294037\n",
      "Epoch:  0080 cost =   0.293271\n",
      "Epoch:  0081 cost =   0.292607\n",
      "Epoch:  0082 cost =   0.291909\n",
      "Epoch:  0083 cost =   0.291230\n",
      "Epoch:  0084 cost =   0.290421\n",
      "Epoch:  0085 cost =   0.289818\n",
      "Epoch:  0086 cost =   0.288933\n",
      "Epoch:  0087 cost =   0.288038\n",
      "Epoch:  0088 cost =   0.287688\n",
      "Epoch:  0089 cost =   0.287124\n",
      "Epoch:  0090 cost =   0.286276\n",
      "Epoch:  0091 cost =   0.285714\n",
      "Epoch:  0092 cost =   0.285166\n",
      "Epoch:  0093 cost =   0.284481\n",
      "Epoch:  0094 cost =   0.283729\n",
      "Epoch:  0095 cost =   0.283164\n",
      "Epoch:  0096 cost =   0.282696\n",
      "Epoch:  0097 cost =   0.282222\n",
      "Epoch:  0098 cost =   0.281722\n",
      "Epoch:  0099 cost =   0.281089\n",
      "Epoch:  0100 cost =   0.280441\n",
      "Accuracy:  0.9185\n"
     ]
    }
   ],
   "source": [
    "# MNIST를 학습시켜보자. 복붙하지 말자\n",
    "from tensorflow.examples.tutorials.mnist import input_data\n",
    "import tensorflow as tf\n",
    "mnist = input_data.read_data_sets(\"MNIST_data/\", one_hot = True)\n",
    "\n",
    "nb_classes = 10\n",
    "\n",
    "# MNIST data image of shape 28*28 = 784\n",
    "X = tf.placeholder(tf.float32, [None,784])\n",
    "# 0 - 9 digits recognition = 10 classes\n",
    "Y = tf.placeholder(tf.float32, [None,nb_classes])\n",
    "\n",
    "W = tf.Variable(tf.random_normal([784, nb_classes]))\n",
    "b = tf.Variable(tf.random_normal([nb_classes]))\n",
    "\n",
    "# Hypothesis (using softmax)\n",
    "hypothesis = tf.nn.softmax(tf.matmul(X, W) + b )\n",
    "\n",
    "cost = tf.reduce_mean( -tf.reduce_sum(Y * tf.log(hypothesis),axis = 1))\n",
    "optimizer = tf.train.GradientDescentOptimizer(learning_rate = 0.1 ).minimize(cost)\n",
    "\n",
    "# Test Model\n",
    "is_correct = tf.equal(tf.arg_max(hypothesis, 1),tf.arg_max(Y,1))\n",
    "# Calculate accuracy\n",
    "accuracy = tf.reduce_mean(tf.cast(is_correct, tf.float32))\n",
    "\n",
    "# parameters\n",
    "training_epochs = 100\n",
    "batch_size = 100\n",
    "\n",
    "with tf.Session() as sess:\n",
    "    # Initalize TensorFlow variables\n",
    "    sess.run(tf.global_variables_initializer())\n",
    "    # Training Cycle\n",
    "    for epoch in range(training_epochs):\n",
    "        avg_cost = 0\n",
    "        total_batch = int(mnist.train.num_examples / batch_size)\n",
    "        \n",
    "        for i in range(total_batch):\n",
    "            batch_xs, batch_ys = mnist.train.next_batch(batch_size)\n",
    "            c, _ = sess.run([cost, optimizer], feed_dict = {X: batch_xs, Y: batch_ys})\n",
    "            avg_cost += c / total_batch\n",
    "        print('Epoch: ', '%04d' % (epoch +1), 'cost = ', '{:9f}' .format(avg_cost))\n",
    "    print(\n",
    "        \"Accuracy: \",\n",
    "        accuracy.eval(\n",
    "            session=sess, feed_dict={X: mnist.test.images, Y: mnist.test.labels}\n",
    "        ),\n",
    "    )\n",
    "    saver = tf.train.Saver()\n",
    "    save_path = saver.save(sess, \"./mnist_softmax.ckpt\")\n"
   ]
  },
  {
   "cell_type": "markdown",
   "metadata": {},
   "source": [
    "간단한 모델을 이용하다 보니 정확도가 높지 않다.<br>\n",
    "\n",
    "하지만 그대로 진행한다. 대략 88%이상의 정확도면 된다."
   ]
  },
  {
   "cell_type": "markdown",
   "metadata": {},
   "source": [
    "# Problem 5\n",
    "\n",
    "### 이미지 데이터 가져오기\n",
    "\n",
    "이미지의 리스트를 가져오기 위해서 glob 라는 함수를 사용하자"
   ]
  },
  {
   "cell_type": "code",
   "execution_count": 8,
   "metadata": {},
   "outputs": [],
   "source": [
    "import glob\n",
    "\n",
    "# 파일이 존재하는 폴더의 위치를 정해주고 \n",
    "# 해당 위치의 모든 png file을 정렬해서 가져온다.\n",
    "glob_path = glob.glob('./images/*.png')\n",
    "# 이후 test_data list에 해당 이미지를 open하여 append한다.\n",
    "test_data = []\n",
    "for img_name in glob_path:\n",
    "    im = Image.open(img_name).convert('L')\n",
    "    test_data.append(im)"
   ]
  },
  {
   "cell_type": "markdown",
   "metadata": {},
   "source": [
    "하나의 테스트 파일을 출력해 보자.\n",
    "size가 28X28이면 알맞게 불러진 것이다."
   ]
  },
  {
   "cell_type": "code",
   "execution_count": 9,
   "metadata": {},
   "outputs": [
    {
     "name": "stdout",
     "output_type": "stream",
     "text": [
      "<PIL.Image.Image image mode=L size=28x28 at 0x1E2753BFBE0>\n",
      "1452\n"
     ]
    }
   ],
   "source": [
    "print(test_data[0])\n",
    "print(len(test_data))"
   ]
  },
  {
   "cell_type": "markdown",
   "metadata": {},
   "source": [
    "불러온 데이터를 하나 열어보자 \n",
    "\n"
   ]
  },
  {
   "cell_type": "code",
   "execution_count": 10,
   "metadata": {},
   "outputs": [
    {
     "data": {
      "text/plain": [
       "<Figure size 640x480 with 1 Axes>"
      ]
     },
     "metadata": {},
     "output_type": "display_data"
    }
   ],
   "source": [
    "import matplotlib.pyplot as plt\n",
    "plt.imshow(test_data[3],cmap=\"Greys\",interpolation='nearest')\n",
    "plt.show()"
   ]
  },
  {
   "cell_type": "markdown",
   "metadata": {},
   "source": [
    "# Problem 6\n",
    "\n",
    "### 이미지 테스트 해보기\n",
    "\n",
    "이미지를 테스트 해 보는 단계이다. \n",
    "\n",
    "훈련한 모델을 이용하여 모델이 제대로 분류를 하는지 확인해 보자.\n",
    "\n",
    "확인을 하기 위해 사진이 들어있는 폴더 내에 0부터 9까지의 폴더를 만들어야 한다.\n",
    "\n",
    "그리고 사진을 예측한 값의 이름을 가진 폴더에 넣게 된다.\n",
    "\n",
    "\n",
    "> 폴더 조작을 위해 shutil 모듈을 이용해 보자"
   ]
  },
  {
   "cell_type": "code",
   "execution_count": 34,
   "metadata": {},
   "outputs": [
    {
     "name": "stdout",
     "output_type": "stream",
     "text": [
      "INFO:tensorflow:Restoring parameters from ./mnist_softmax.ckpt\n"
     ]
    }
   ],
   "source": [
    "import numpy as np\n",
    "import shutil\n",
    "\n",
    "src = './images/'\n",
    "dst = './images/'\n",
    "# 폴더가 존재하지 않다면 폴더를 만들자\n",
    "dir_init()\n",
    "for i in range(10):\n",
    "    if not os.path.isdir(src + str(i)):\n",
    "        os.mkdir(src + str(i))\n",
    "#dir_init()\n",
    "\n",
    "# 학습한 모델을 가지고 예측을 해보자. 예측후 해당 폴더로 파일을 이동시킨다.\n",
    "\n",
    "\n",
    "# placeholder y에 넣기 위해서 reshape\n",
    "td_y = np.zeros((1450,10),dtype = \"float32\")\n",
    "\n",
    "X = tf.placeholder(tf.float32, [None,784])\n",
    "Y = tf.placeholder(tf.float32, [None,nb_classes])\n",
    "W = tf.Variable(tf.random_normal([784, nb_classes]))\n",
    "b = tf.Variable(tf.random_normal([nb_classes]))\n",
    "\n",
    "hypothesis = tf.nn.softmax(tf.matmul(X, W) + b )\n",
    "\n",
    "with tf.Session() as sess:\n",
    "    sess.run(tf.global_variables_initializer())\n",
    "    saver.restore(sess , \"./mnist_softmax.ckpt\")\n",
    "    for i in range(1450):\n",
    "        td_x = np.array(test_data[i], dtype = \"float32\").reshape(-1,784)\n",
    "        # 0~1사이의 값으로 normalization\n",
    "        td_x /= 255.0\n",
    "        # Accuracy 측정\n",
    "        predict = sess.run(hypothesis, feed_dict={X: td_x})\n",
    "        # 10개의 데이터에 대한 결과값 보기\n",
    "        #print(predict)\n",
    "        #print(np.argmax(predict))\n",
    "        shutil.copy(src+str(i+1).zfill(4)+'.png',dst+str(np.argmax(predict)))\n",
    "        \n",
    "        #fig = plt.figure()\n",
    "        \n",
    "        '''\n",
    "        subplot = fig.add_subplot(2,5,i+1)\n",
    "        # x,y축의 지점 표시 X\n",
    "        subplot.set_xticks([])\n",
    "        subplot.set_yticks([])\n",
    "        # subplot의 제목을 i 번째 결과에 해당하는 숫자로 설정\n",
    "        subplot.set_title('%d' %sess.run(tf.arg_max(predict,1)))\n",
    "        subplot.imshow(td_x.reshape((28,28)),cmap=\"Greys\",interpolation='nearest')\n",
    "        plt.show()\n",
    "        '''\n",
    "        \n",
    "    '''\n",
    "    fig = plt.figure()\n",
    "    for i in range(10):\n",
    "        subplot = fig.add_subplot(2,5,i+1)\n",
    "        # x,y축의 지점 표시 X\n",
    "        subplot.set_xticks([])\n",
    "        subplot.set_yticks([])\n",
    "        \n",
    "        # subplot의 제목을 i 번째 결과에 해당하는 숫자로 설정\n",
    "        subplot.set_title('%d' %np.argmax(td_y[i:i+1]))\n",
    "        subplot.imshow(td_x.reshape((28,28)),cmap=plt.cm.gray_r)\n",
    "    plt.show()\n",
    "    '''\n"
   ]
  },
  {
   "cell_type": "markdown",
   "metadata": {},
   "source": [
    "사진이 폴더에 들어가면 테스트에 성공한 것이다.\n",
    "\n",
    "이제 폴더를 열어 결과를 확인해 보자.\n",
    "\n",
    "결과가 잘 나왔으면 어떠한 기법을 사용한 것인지 잘 나오지 못하였다면 어떤 부분에서 문제가 생긴지 생각해 보자\n",
    "\n",
    "개선 할 수 있다면 개선하여 도전해보자"
   ]
  },
  {
   "cell_type": "markdown",
   "metadata": {},
   "source": [
    "# Problem 7\n",
    "\n",
    "### 초기화 하기\n",
    "\n",
    "\n",
    "테스트가 끝난 뒤 다시 테스트를 하려면 손이 많이 간다. \n",
    "\n",
    "이러한 점이 불편하게 느껴지니 자동으로 초기 상태로 돌려주는 프로그램을 만들고자 한다.\n",
    "\n",
    "우선 아쉽게도 shutil 모듈 내부에는 모든 파일을 지우는 함수가 없다.\n",
    "\n",
    "따라서 shutil의 모듈의 폴더를 지우는 함수를 이용하여 폴더를 지우고 해당 폴더를 다시 만드는 작업을 하자\n",
    "\n",
    "그리고 위에서 만든 imag_prep() 함수를 이용하여 없어진 사진도 다시 복구하자\n",
    "\n",
    "모두 다 끝난 뒤 init() 함수로 만들면 된다.\n"
   ]
  },
  {
   "cell_type": "code",
   "execution_count": 30,
   "metadata": {},
   "outputs": [],
   "source": [
    "import os\n",
    "import shutil\n",
    "\n",
    "def dir_init():\n",
    "    for i in range(10):\n",
    "        if os.path.isdir(src + str(i)):\n",
    "            shutil.rmtree(src + str(i))"
   ]
  },
  {
   "cell_type": "code",
   "execution_count": 24,
   "metadata": {},
   "outputs": [],
   "source": []
  },
  {
   "cell_type": "code",
   "execution_count": null,
   "metadata": {},
   "outputs": [],
   "source": []
  }
 ],
 "metadata": {
  "kernelspec": {
   "display_name": "Python 3",
   "language": "python",
   "name": "python3"
  },
  "language_info": {
   "codemirror_mode": {
    "name": "ipython",
    "version": 3
   },
   "file_extension": ".py",
   "mimetype": "text/x-python",
   "name": "python",
   "nbconvert_exporter": "python",
   "pygments_lexer": "ipython3",
   "version": "3.6.7"
  }
 },
 "nbformat": 4,
 "nbformat_minor": 2
}
